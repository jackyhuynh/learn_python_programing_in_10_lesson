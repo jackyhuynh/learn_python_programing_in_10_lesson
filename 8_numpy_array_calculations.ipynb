{
 "cells": [
  {
   "cell_type": "markdown",
   "metadata": {
    "id": "2ngLF7cpYjqg"
   },
   "source": [
    "# Lesson 8\n",
    "\n",
    "This notebook will cover the following topics:\n",
    "\n",
    "1. Numpy and array orientated programming\n",
    "2. Reading numpy arrays from files\n",
    "3. Manipulating numpy arrays\n",
    "4. Numpy calculations\n",
    "5. Numpy arrays versus list speed"
   ]
  },
  {
   "cell_type": "markdown",
   "metadata": {
    "id": "0q453iEEZt2e"
   },
   "source": [
    "## 8.1 Numpy and array orientated programming (Follow)\n",
    "\n",
    "**Learning Objectives**\n",
    "\n",
    "1. Understand how to create and populate numpy arrays.\n",
    "2. Understand the importance of using numpy arrays.\n",
    "3. Understand why numpy arrays are so useful."
   ]
  },
  {
   "cell_type": "code",
   "execution_count": null,
   "metadata": {
    "executionInfo": {
     "elapsed": 103,
     "status": "ok",
     "timestamp": 1645202951032,
     "user": {
      "displayName": "Travis Martin",
      "photoUrl": "https://lh3.googleusercontent.com/a/default-user=s64",
      "userId": "17005528951968776844"
     },
     "user_tz": 360
    },
    "id": "cHN6e-kRgoqe"
   },
   "outputs": [],
   "source": [
    "# add comments to the code\n",
    "# https://numpy.org/doc/\n",
    "\n",
    "import numpy as np\n",
    "\n",
    "numbers = np.array([2, 3, 5, 7, 11])\n",
    "#print(numbers)\n",
    "\n",
    "multi_dim_nums = np.array([[1, 2, 3], [4, 5, 6]])\n",
    "#print('\\n', multi_dim_nums)\n",
    "\n",
    "extra_row = np.array([7, 8, 9])\n",
    "multi_dim_nums = np.append(multi_dim_nums, [extra_row], axis=0)\n",
    "#print('\\n', multi_dim_nums)\n",
    "\n",
    "new_array = np.array([x for x in range(1, 20, 2)])\n",
    "#print('\\n', new_array)\n",
    "\n",
    "#print('\\n', type(numbers))\n",
    "#print('\\n', numbers.dtype)\n",
    "\n",
    "#for row in multi_dim_nums:\n",
    " # for column in row:\n",
    "  #  print('\\n', column)\n",
    "\n",
    "#for i in multi_dim_nums.flat:\n",
    " # print('\\n', i)\n",
    "\n",
    "zero_array = np.zeros(10)\n",
    "#print('\\n', zero_array)\n",
    "\n",
    "any_num_array = np.full((3, 5), 10)\n",
    "#print('\\n', any_num_array)\n",
    "\n",
    "big_array = np.arange(1, 21, 1).reshape(4, 5)\n",
    "#print('\\n', big_array)\n",
    "\n",
    "really_big_array = np.arange(1, 100001).reshape(4, 25000)\n",
    "#print('\\n', really_big_array)\n",
    "\n"
   ]
  },
  {
   "cell_type": "markdown",
   "metadata": {
    "id": "nMCJx55HgUiG"
   },
   "source": [
    "### As the above code executes, think about the following questions:\n",
    "\n",
    "1. What does the np.array() function do?\n",
    "2. What does the np.full() function do?\n",
    "3. What does the np.reshape() function do?\n",
    "4. What does the np.arange() function do?"
   ]
  },
  {
   "cell_type": "markdown",
   "metadata": {
    "id": "AntzM5j0euuf"
   },
   "source": [
    "## 8.1 Numpy and array orientated programming (Group)\n",
    "\n",
    "**Write a program that will do the following:**\n",
    "\n",
    "1. Create some different arrays.\n",
    "2. Create arrays with different values in the arrays.\n",
    "3. Create arrays of different sizes and shapes.\n",
    "4. Try experimenting with array creation and try to do some interesting things with them.\n",
    "5. You may be asked to present what you come up with."
   ]
  },
  {
   "cell_type": "code",
   "execution_count": null,
   "metadata": {
    "id": "fMJ4578ggsgw"
   },
   "outputs": [],
   "source": []
  },
  {
   "cell_type": "code",
   "execution_count": null,
   "metadata": {
    "id": "dsp6ozIKgsmJ"
   },
   "outputs": [],
   "source": []
  },
  {
   "cell_type": "markdown",
   "metadata": {
    "id": "vRk44n7JZuI0"
   },
   "source": [
    "## 8.2 Reading numpy arrays from files (Follow)\n",
    "\n",
    "**Learning Objectives**\n",
    "1. Understand how to load numpy array from a file.\n",
    "2. Understand the advantages of loading files into numpy arrays.\n"
   ]
  },
  {
   "cell_type": "code",
   "execution_count": null,
   "metadata": {
    "id": "ncxFsiiXgp0F"
   },
   "outputs": [],
   "source": [
    "# add comments to the code\n",
    "# https://numpy.org/doc/stable/reference/generated/numpy.genfromtxt.html\n",
    "# https://realpython.com/python-lambda/\n",
    "\n",
    "import numpy as np\n",
    "\n",
    "ironman_data = np.genfromtxt('2019 Ironman World Championship Results.csv', \n",
    "                             delimiter = ',', dtype = 'str', skip_header=1)\n",
    "\n",
    "#np.set_printoptions(threshold=np.inf)\n",
    "#np.set_printoptions(threshold=10)\n",
    "#np.set_printoptions()\n",
    "#print(ironman_data)\n",
    "#print(ironman_data[:, [1]])\n",
    "\n",
    "string_times = ironman_data[:, [6, 7, 8, 9]]\n",
    "print(string_times[1][0])\n",
    "\n",
    "hrs, mins, secs = string_times[1][0].split(\":\")\n",
    "time_secs = float(hrs)*3600 + float(mins)*60 + float(secs)\n",
    "print(time_secs)\n",
    "\n",
    "cast_f = lambda x : float(x)\n",
    "conv_hrs = lambda x : cast_f(x)*3600\n",
    "conv_mins = lambda x : cast_f(x)*60\n",
    "conv = lambda x, y, z : conv_hrs(x) + conv_mins(y) + cast_f(z)\n",
    "print(conv(hrs, mins, secs))\n"
   ]
  },
  {
   "cell_type": "markdown",
   "metadata": {
    "id": "E1ShCUFrgVWz"
   },
   "source": [
    "### As the above code executes, think about the following questions:\n",
    "\n",
    "1. What do all the arguments in genfromtext do?\n",
    "2. Explain what the line \"print(ironman_data[:, [1]])\" prints.\n",
    "3. Explain how lambda functions work.\n",
    "4. Why would you use a lambda function?"
   ]
  },
  {
   "cell_type": "markdown",
   "metadata": {
    "id": "8SQPHn0PevjN"
   },
   "source": [
    "## 8.2 Reading numpy arrays from files (Group)\n",
    "\n",
    "**Write a program that will do the following:**\n",
    "1. Read in the ironman dataset and input it into a numpy array.\n",
    "2. Grab only the numeric fields in the dataset. \n",
    "3. Caution: I did not grab all the numeric fields, above.\n",
    "4. Convert all the numeric fields to integers or floats as needed.\n",
    "5. Store all these values into a new numpy array.\n",
    "6. Try using lambda functions to convert data."
   ]
  },
  {
   "cell_type": "code",
   "execution_count": null,
   "metadata": {
    "id": "uRxPganHguLL"
   },
   "outputs": [],
   "source": [
    "\n"
   ]
  },
  {
   "cell_type": "code",
   "execution_count": null,
   "metadata": {
    "id": "jAtioezeguSY"
   },
   "outputs": [],
   "source": [
    "\n"
   ]
  },
  {
   "cell_type": "markdown",
   "metadata": {
    "id": "xJ2vv0I6ZuVU"
   },
   "source": [
    "## 8.3 Manipulating numpy arrays (Follow)\n",
    "\n",
    "**Learning Objectives**\n",
    "1. Understand how to manipulate numpy arrays.\n",
    "2. Understand the importance of manipulating numpy arrays."
   ]
  },
  {
   "cell_type": "code",
   "execution_count": null,
   "metadata": {
    "id": "gfnbXDVRg1DA"
   },
   "outputs": [],
   "source": [
    "import numpy as np\n",
    "\n",
    "multi_dim_nums = np.array([[1, 2, 3], [4, 5, 6]])\n",
    "multi_dim_nums2 = np.array([[1, 2, 3], [4, 5, 6]])\n",
    "multi_dim_nums3 = np.array([[1, 2, 3], [7, 8, 9]])\n",
    "\n",
    "#print(multi_dim_nums == multi_dim_nums2, '\\n')\n",
    "#print(multi_dim_nums == multi_dim_nums3, '\\n')\n",
    "\n",
    "threeD_array = np.full((3, 5, 2), 10)\n",
    "#print(threeD_array, '\\n')\n",
    "for t in range(5):\n",
    "    threeD_array[:, t, :] = 1\n",
    "#print(threeD_array, '\\n')\n",
    "\n",
    "ages = np.random.randint(low=30, high=60, size=10)\n",
    "#print(ages)\n",
    "#print(np.argsort(ages))\n",
    "\n",
    "toy_array = np.array([[1, 1, 3], [4, 5, 5]])\n",
    "#print(np.unique(toy_array, return_index = True))\n",
    "#print(toy_array.max(axis=0))"
   ]
  },
  {
   "cell_type": "markdown",
   "metadata": {
    "id": "niuXoPekgWTm"
   },
   "source": [
    "### As the above code executes, think about the following questions:\n",
    "\n",
    "1. Look at the different arrays created in lines 3-5.  Try creating a 4D or 5D array.\n",
    "2. Explain what line 13 is actually doing in your own words.\n",
    "3. Explain what argsort() is actually doing.\n",
    "4. Explain what the axis flag does on line 22."
   ]
  },
  {
   "cell_type": "markdown",
   "metadata": {
    "id": "W_mCg2gAewO_"
   },
   "source": [
    "## 8.3 Manipulating numpy arrays (Group)\n",
    "\n",
    "**Write a program that will do the following:**\n",
    "1. Play around with numpy arrays.\n",
    "2. Try and show off some interesting tips and tricks.\n",
    "3. Be prepared to present what you have found."
   ]
  },
  {
   "cell_type": "code",
   "execution_count": null,
   "metadata": {
    "id": "kETeW5yxg2YH"
   },
   "outputs": [],
   "source": []
  },
  {
   "cell_type": "code",
   "execution_count": null,
   "metadata": {
    "id": "NL4MxOspg2cA"
   },
   "outputs": [],
   "source": []
  },
  {
   "cell_type": "markdown",
   "metadata": {
    "id": "3C-VtI6qZued"
   },
   "source": [
    "## 8.4 Numpy calculations (Follow)\n",
    "\n",
    "**Learning Objectives**\n",
    "1. Understand how to perform calculations with numpy arrays.\n",
    "2. Understand how to use the built in functions in numpy to perform calculations.\n"
   ]
  },
  {
   "cell_type": "code",
   "execution_count": null,
   "metadata": {
    "id": "gkQE-ffYg3NT"
   },
   "outputs": [],
   "source": [
    "import numpy as np\n",
    "\n",
    "numbers = np.arange(1, 6)\n",
    "#print(numbers, '\\n')\n",
    "\n",
    "numbers2 = np.arange(3, 8)\n",
    "#print(numbers2, '\\n')\n",
    "\n",
    "#print(numbers*2, '\\n')\n",
    "#print(numbers**2, '\\n')\n",
    "\n",
    "numbers += 10\n",
    "#print(numbers, '\\n')\n",
    "\n",
    "#print(numbers * numbers2, '\\n')\n",
    "\n",
    "#print(numbers > numbers2, '\\n')\n",
    "\n",
    "#print(numbers.sum(), '\\n')\n",
    "#print(numbers.mean(), '\\n')\n",
    "#print(numbers.std(), '\\n')\n",
    "\n",
    "\n",
    "new_numbers = np.array([1, 2, 3, 4])\n",
    "np.add.at(new_numbers, [0, 1, 2, 2], 1)\n",
    "#print(new_numbers)\n"
   ]
  },
  {
   "cell_type": "markdown",
   "metadata": {
    "id": "PaSlo5A3gXUv"
   },
   "source": [
    "### As the above code executes, think about the following questions:\n",
    "\n",
    "1. Why would you want to use numbers*2? Why not just iterate through the numbers and multiply?\n",
    "2. What does numbers += 10 do?\n",
    "3. What does the > operator do on line 17?\n",
    "4. What is mean and standard deviation?\n",
    "5. Explain what the np.add.at function does."
   ]
  },
  {
   "cell_type": "markdown",
   "metadata": {
    "id": "pq9c_Mg6ew6L"
   },
   "source": [
    "## 8.4 Numpy calculations (Group)\n",
    "\n",
    "**Create a program that will do the following:**\n",
    "1. Load the ironman world championship data.\n",
    "2. Clean the data.  Change all the DNF/DNS/DQ to zero.  \n",
    "3. Fill missing data with zeros.\n",
    "4. Pull down the numeric data only.\n",
    "5. Load the numeric data into a numpy array.\n",
    "6. Find the mean, median, and standard deviation of each data field/column.\n",
    "7. Print this information to the console.\n",
    "8. As an added challenge, try plotting the data with time along the x axis and number of athletes along the y axis."
   ]
  },
  {
   "cell_type": "code",
   "execution_count": null,
   "metadata": {
    "id": "Ipm6bmktg9hY"
   },
   "outputs": [],
   "source": [
    "\n"
   ]
  },
  {
   "cell_type": "code",
   "execution_count": null,
   "metadata": {
    "id": "tq_P7XJbg9m3"
   },
   "outputs": [],
   "source": [
    "\n"
   ]
  },
  {
   "cell_type": "markdown",
   "metadata": {
    "id": "8UwNItEEZumw"
   },
   "source": [
    "## 8.5 Numpy arrays versus list speed (Follow)\n",
    "\n",
    "**Learning Objectives**\n",
    "1. Understand why numpy calculations are so much quicker than list applications.\n",
    "2. understand how to convert list applications to numpy applications.  "
   ]
  },
  {
   "cell_type": "code",
   "execution_count": null,
   "metadata": {
    "id": "rJK5hahUg-sA"
   },
   "outputs": [],
   "source": [
    "import random\n",
    "\n",
    "%timeit rolls_list = [random.randrange(1, 7) for i in range(0, 6_000_000)]\n",
    "\n",
    "%timeit rolls_array = np.random.randint(1, 7, 6_000_000)\n"
   ]
  },
  {
   "cell_type": "markdown",
   "metadata": {
    "id": "GkskHuEYgYjp"
   },
   "source": [
    "### As the above code executes, think about the following questions:\n",
    "\n",
    "1. What does the timeit magic word do?\n",
    "2. How significant is the time savings for the numpy array?"
   ]
  },
  {
   "cell_type": "markdown",
   "metadata": {
    "id": "EekWWAJ1exkn"
   },
   "source": [
    "## 8.5 Numpy arrays versus list speed (Group)\n",
    "\n",
    "**Write a program that will do the following:**\n",
    "1. Take the ironman dataset from above and gather at least one of the times from the dataset.\n",
    "2. Gather the times in list form. You may use numpy to gather the items, but perform the mean calculation using lists.\n",
    "3. Compute the mean of the list.  \n",
    "4. Use either %timeit or %%time to find the time of execution.\n",
    "5. Compare this time to the time it takes to compute the mean using numpy.mean() above. \n",
    "6. Feel free to reuse code from above."
   ]
  },
  {
   "cell_type": "code",
   "execution_count": null,
   "metadata": {},
   "outputs": [],
   "source": [
    "\n"
   ]
  }
 ],
 "metadata": {
  "colab": {
   "authorship_tag": "ABX9TyPwfQAdJ/bOTEHH3UULH2zI",
   "collapsed_sections": [],
   "name": "WSK_Week 8 Solutions.ipynb",
   "provenance": []
  },
  "kernelspec": {
   "display_name": "Python 3",
   "language": "python",
   "name": "python3"
  },
  "language_info": {
   "codemirror_mode": {
    "name": "ipython",
    "version": 3
   },
   "file_extension": ".py",
   "mimetype": "text/x-python",
   "name": "python",
   "nbconvert_exporter": "python",
   "pygments_lexer": "ipython3",
   "version": "3.8.8"
  }
 },
 "nbformat": 4,
 "nbformat_minor": 1
}
