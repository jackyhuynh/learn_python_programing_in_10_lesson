{
 "cells": [
  {
   "cell_type": "markdown",
   "metadata": {
    "id": "381kUR5scNTM"
   },
   "source": [
    "# Lesson 9\n",
    "\n",
    "This notebook will cover the follwoing topics:\n",
    "\n",
    "1. Numpy shallow and deep copies\n",
    "2. Panda series\n",
    "3. Dataframes contruction and creation \n",
    "4. Pandas file reading and statistics basics\n",
    "5. Pandas project\n"
   ]
  },
  {
   "cell_type": "markdown",
   "metadata": {
    "id": "m5UcYeB0cNfg"
   },
   "source": [
    "## 9.1 Numpy shallow and deep copies (Follow)\n",
    "\n",
    "**Learning Objectives:**\n",
    "1. Understand the difference between shallow and deep copies.\n",
    "2. Understand when it is appropriate to use shallow and deep copies."
   ]
  },
  {
   "cell_type": "code",
   "execution_count": 6,
   "metadata": {
    "colab": {
     "base_uri": "https://localhost:8080/"
    },
    "id": "q4Dr-ZdCFZhB",
    "outputId": "a9eb8f99-516a-4872-a8da-738a6cc697d8"
   },
   "outputs": [
    {
     "name": "stdout",
     "output_type": "stream",
     "text": [
      "2356047850832\n",
      "2356048189264 \n",
      "\n",
      "[10 20 30 40 50] \n",
      "\n",
      "[10 20 30 40 50] \n",
      "\n",
      "[20 30 40 50 60] \n",
      "\n",
      "[20 30 40 50 60] \n",
      "\n",
      "[1 2 3 4 5] \n",
      "\n",
      "[1 2 3 4 5] \n",
      "\n",
      "[ 5 10 15 20 25] \n",
      "\n",
      "[1 2 3 4 5] \n",
      "\n"
     ]
    }
   ],
   "source": [
    "# add comments to the code\n",
    "\n",
    "import numpy as np\n",
    "\n",
    "numbers = np.arange(1, 6)\n",
    "numbers2 = numbers.view()\n",
    "\n",
    "print(id(numbers))\n",
    "print(id(numbers2), '\\n')\n",
    "\n",
    "numbers *= 10\n",
    "\n",
    "print(numbers, '\\n')\n",
    "print(numbers2, '\\n')\n",
    "\n",
    "numbers2 += 10\n",
    "\n",
    "print(numbers, '\\n')\n",
    "print(numbers2, '\\n')\n",
    "\n",
    "\n",
    "numbers3 = np.arange(1, 6)\n",
    "numbers4 = numbers3.copy()\n",
    "\n",
    "print(numbers3, '\\n')\n",
    "print(numbers4, '\\n')\n",
    "\n",
    "numbers3 *= 5\n",
    "\n",
    "print(numbers3, '\\n')\n",
    "print(numbers4, '\\n')\n",
    "\n"
   ]
  },
  {
   "cell_type": "markdown",
   "metadata": {
    "id": "_HDY3Q8qDlFD"
   },
   "source": [
    "### As the above code executes, think about the following questions:\n",
    "\n",
    "1. What is the difference between a shallow and deep copy?\n",
    "2. What would be a situation where a shallow copy would be prefered?\n",
    "3. What woudl be a situation where a deep copy would be preferred?"
   ]
  },
  {
   "cell_type": "markdown",
   "metadata": {
    "id": "Z1I2_sbIESlp"
   },
   "source": [
    "## 9.1 Numpy shallow and deep copies (Group)\n",
    "\n",
    "**Write a program that will do the following:**\n",
    "1. Create a tree of numpy arrays.\n",
    "2. The tree should have at least 5 numpy arrays.\n",
    "3. The tree should be a binary tree.\n",
    "4. Each node of the tree should be generated from the parent. \n",
    "5. The child should be 2 times the values for the parent.\n",
    "6. For example: if parent node = ([1, 2, 3]), the child should be = ([2, 4, 6])\n",
    "7. Gather the arrays in a list and traverse them in the method of your choosing.\n",
    "8. Print the results to the screen.\n",
    "9. Try to use deep and/or shallow copies to accomplish this task.\n",
    "10. Try to do this in an iterative fashion.\n"
   ]
  },
  {
   "cell_type": "code",
   "execution_count": 4,
   "metadata": {},
   "outputs": [],
   "source": [
    "import numpy as np\n",
    "import networkx as nx\n",
    "\n",
    "graph = nx.Graph()\n",
    "\n",
    "g.add_edge(1,2)\n",
    "g.add_edge(1,3)\n",
    "g.add_edge(2,4)\n",
    "g.add_edge(2,5)\n",
    "g.add_edge(3,6)\n",
    "g.add_edge(3,7)\n",
    "\n",
    "g.nodes[1][\"parent\"]=np.nan\n",
    "g.nodes[2][\"parent\"]=1\n",
    "g.nodes[3][\"parent\"]=1\n",
    "g.nodes[4][\"parent\"]=2\n",
    "g.nodes[5][\"parent\"]=2\n",
    "g.nodes[6][\"parent\"]=3\n",
    "g.nodes[7][\"parent\"]=3\n"
   ]
  },
  {
   "cell_type": "code",
   "execution_count": null,
   "metadata": {},
   "outputs": [],
   "source": [
    "import numpy as np\n",
    "from networkx.drawing.nx_pydot import graphviz_layout\n",
    "import networkx as nx\n",
    "\n",
    "g = nx.Graph()\n",
    "\n",
    "g.add_edge(1,2)\n",
    "g.add_edge(1,3)\n",
    "g.add_edge(2,4)\n",
    "g.add_edge(2,5)\n",
    "g.add_edge(3,6)\n",
    "g.add_edge(3,7)\n",
    "\n",
    "g.nodes[1][\"parent\"]=np.nan\n",
    "g.nodes[2][\"parent\"]=1\n",
    "g.nodes[3][\"parent\"]=1\n",
    "g.nodes[4][\"parent\"]=2\n",
    "g.nodes[5][\"parent\"]=2\n",
    "g.nodes[6][\"parent\"]=3\n",
    "g.nodes[7][\"parent\"]=3\n",
    "\n",
    "g.nodes[1][\"value\"]=np.array([1,2,3])\n",
    "\n",
    "value = nx.get_node_attributes(g, \"value\")\n",
    "parent = nx.get_node_attributes(g, \"parent\")\n",
    "print(\"parent attribute {node:value}:\",parent,\"\\n\")\n",
    "print(\"value attribute {node:value} :\",value)\n",
    "\n",
    "for x in range(2, len(parent)+1):\n",
    "    g.nodes[x][\"value\"]=value[parent[x]]*2\n",
    "    value = nx.get_node_attributes(g, \"value\")\n",
    "    print(\"value attribute {node:value} :\",value)\n",
    "\n",
    "###########\n",
    "# Convert value, which is a \n",
    "###########\n",
    "# Convert value, which is a dictionary of nodes and \n",
    "# the list stored as the value attribute for that node\n",
    "# into two lists to fulfill the stated requirements\n",
    "# then print them\n",
    "###########\n",
    "    \n",
    "Nodes = list(value.keys())\n",
    "Values = list(value.values())\n",
    "\n",
    "print(\"\\nNode\\t\",\"Value\")\n",
    "\n",
    "for i in range(len(Nodes)):\n",
    "    print(Nodes[i],\"\\t\",Values[i])\n",
    "\n",
    "#for key, value in value.items():\n",
    "#    print(key,\"\\t\", value)\n",
    "    \n",
    "#[print(key,'\\t', value) for key, value in value.items()]\n",
    "    \n",
    "#for key in value:\n",
    "#    print(key,\"\\t\", value[key])\n",
    "\n",
    "\n",
    "pos = graphviz_layout(g, prog=\"dot\")\n",
    "node_labels = nx.get_node_attributes(g,'value')\n",
    "nx.draw(g, pos, node_color = 'w', edge_color = 'g', with_labels = True, labels = node_labels)\n"
   ]
  },
  {
   "cell_type": "code",
   "execution_count": null,
   "metadata": {
    "colab": {
     "base_uri": "https://localhost:8080/"
    },
    "id": "N18Nxw72FavU",
    "outputId": "b659a505-e6a3-4cd0-97f0-8c1195a4607a"
   },
   "outputs": [],
   "source": []
  },
  {
   "cell_type": "markdown",
   "metadata": {
    "id": "_yJwEoH9cNiY"
   },
   "source": [
    "## 9.2 Panda Series (Follow)\n",
    "\n",
    "**Learning Objectives:**\n",
    "1. Understand how to manipulate and create panda series.\n",
    "2. Understand how panda series are different from numpy arrays."
   ]
  },
  {
   "cell_type": "code",
   "execution_count": 14,
   "metadata": {
    "colab": {
     "base_uri": "https://localhost:8080/"
    },
    "id": "LDOQKxmiFbvc",
    "outputId": "bfbb0702-c9e1-4282-f4fc-9c685ae507c6"
   },
   "outputs": [
    {
     "name": "stdout",
     "output_type": "stream",
     "text": [
      "Wally     87\n",
      "Eva      100\n",
      "Sam       94\n",
      "dtype: int64 \n",
      "\n",
      "100 \n",
      "\n",
      "87 \n",
      "\n"
     ]
    }
   ],
   "source": [
    "# add comments to the code\n",
    "\n",
    "import pandas as pd\n",
    "\n",
    "# grades = pd.Series([87, 100, 94])\n",
    "# print(grades)\n",
    "# print(grades[0])\n",
    "\n",
    "# print(grades.count(), '\\n')\n",
    "# print(grades.mean(), '\\n')\n",
    "# print(grades.min(), '\\n')\n",
    "# print(grades.max(), '\\n')\n",
    "# print(grades.describe(), '\\n')\n",
    "# print(grades.describe()[0], '\\n')\n",
    "\n",
    "grades = pd.Series([87, 100, 94], index = ['Wally', 'Eva', 'Sam'])\n",
    "print(grades, '\\n')\n",
    "grades = pd.Series({'Wally': 87, 'Eva': 100, 'Sam': 94})\n",
    "\n",
    "print(grades['Eva'], '\\n')\n",
    "print(grades.Wally, '\\n')"
   ]
  },
  {
   "cell_type": "markdown",
   "metadata": {
    "id": "xFQYnFpcDqw7"
   },
   "source": [
    "### As the above code executes, think about the following questions:\n",
    "\n",
    "1. How is a pandas series different/same as a numpy array?\n",
    "2. What do the .count(), .mean(), ... functions do?\n",
    "3. What is meant by pandas supports custom indexing?"
   ]
  },
  {
   "cell_type": "markdown",
   "metadata": {
    "id": "4t_NLAurETTp"
   },
   "source": [
    "## 9.2 Panda Series (Group)\n",
    "\n",
    "**Write a program that will do the following:**\n",
    "1. Create a NUMPY array of random integers.  \n",
    "2. The array should have at least 10 elements.\n",
    "3. Convert the array to a panda series.\n",
    "4. Produce descriptive statistics for the series.\n",
    "5. As an added challenge, try to make the numpy array always return the same values."
   ]
  },
  {
   "cell_type": "code",
   "execution_count": 16,
   "metadata": {
    "colab": {
     "base_uri": "https://localhost:8080/"
    },
    "id": "TZ8o6UdLFczR",
    "outputId": "387c5657-9e1c-4488-d126-645650443742"
   },
   "outputs": [
    {
     "name": "stdout",
     "output_type": "stream",
     "text": [
      "count     5.000000\n",
      "mean     18.400000\n",
      "std       9.813256\n",
      "min       5.000000\n",
      "25%      16.000000\n",
      "50%      17.000000\n",
      "75%      22.000000\n",
      "max      32.000000\n",
      "dtype: float64 \n",
      "\n"
     ]
    }
   ],
   "source": [
    "import numpy as np\n",
    "import pandas as pd\n",
    "\n",
    "random_np = np.random.randint(1,101,5)\n",
    "pd_array = pd.Series(random_np)\n",
    "\n",
    "print(pd_array.describe(), '\\n')"
   ]
  },
  {
   "cell_type": "markdown",
   "metadata": {
    "id": "KNh1o6DgcNsT"
   },
   "source": [
    "## 9.3 Dataframes construction and creation (Follow)\n",
    "\n",
    "**Learning Objectives:**\n",
    "1. Understand how dataframes are created.\n",
    "2. Understand how dataframes are used.\n",
    "3. Understand how to manipulate dataframes."
   ]
  },
  {
   "cell_type": "code",
   "execution_count": null,
   "metadata": {
    "colab": {
     "base_uri": "https://localhost:8080/"
    },
    "id": "Zvtq6olLFdt3",
    "outputId": "af9b89ad-2936-4139-d471-aeea372038bf"
   },
   "outputs": [],
   "source": [
    "import pandas as pd\n",
    "\n",
    "grades_dict = {'Wally': [87, 96, 70, 90], 'Eva': [100, 87, 90, 92], \n",
    "               'Sam': [94, 77, 90, 89], 'Katie': [100, 81, 82, 85],\n",
    "               'Bob': [83, 65, 85, 78]}\n",
    "\n",
    "grades = pd.DataFrame(grades_dict)\n",
    "print(grades, '\\n')\n",
    "grades.index = ['Test1', 'Test2', 'Test3', 'Test4']\n",
    "print(grades, '\\n')\n",
    "print(grades['Eva'], '\\n')\n",
    "\n",
    "print(grades.loc['Test1'], '\\n')\n",
    "print(grades.iloc[1], '\\n')\n",
    "\n",
    "print(grades.loc['Test1': 'Test3'])"
   ]
  },
  {
   "cell_type": "markdown",
   "metadata": {
    "id": "8x7gF2rGDrz4"
   },
   "source": [
    "### As the above code executes, think about the following questions:\n",
    "\n",
    "1. What is a dataframe and how is it different/same from a series or numpy array?\n",
    "2. What does the loc function do?\n",
    "3. What does the iloc function do?\n"
   ]
  },
  {
   "cell_type": "markdown",
   "metadata": {
    "id": "AhAsxr7eE9zY"
   },
   "source": [
    "## 9.3 Dataframes construction and creation (Group)\n",
    "\n",
    "**Write a program that will do the following:**\n",
    "1. Create a dataframe with employees, job title, salary, and years worked.\n",
    "2. There should be at least 5 entries.\n",
    "3. Add indexes to the rows so when you print the dataframe it will display properly.\n",
    "4. Try writing commands using iloc and loc to extract different rows and columns from the dataframe.\n",
    "5. You may be asked to share things you did.\n"
   ]
  },
  {
   "cell_type": "code",
   "execution_count": null,
   "metadata": {
    "colab": {
     "base_uri": "https://localhost:8080/"
    },
    "id": "1D97tqYfFfeD",
    "outputId": "dea7dfb5-dfdf-4bec-df2f-fc4792cf2c16"
   },
   "outputs": [],
   "source": [
    "\n"
   ]
  },
  {
   "cell_type": "markdown",
   "metadata": {
    "id": "i8c32pvQcNvG"
   },
   "source": [
    "## 9.4 Pandas file reading and statistics basics (Follow)\n",
    "\n",
    "**Learning Objectives:**\n",
    "1. Understand what statistics can be easily found using pandas.\n",
    "2. Understand how those statistics can be used."
   ]
  },
  {
   "cell_type": "code",
   "execution_count": null,
   "metadata": {
    "id": "iv3LUim-Fghe"
   },
   "outputs": [],
   "source": [
    "# Add comments to the code\n",
    "\n",
    "import pandas as pd\n",
    "\n",
    "df = pd.read_csv('data/raisin_dataset.csv')\n",
    "\n",
    "print(df)\n",
    "#print(df['Area']) \n",
    "\n",
    "df2 = df['Area']\n",
    "#print(df2)\n",
    "\n",
    "df.drop('Area', inplace=True, axis=1)\n",
    "#print(df)\n",
    "\n",
    "#print(df['MinorAxisLength'].mean())\n",
    "\n",
    "#print(df[df['Class'] == 'Besni'])\n"
   ]
  },
  {
   "cell_type": "markdown",
   "metadata": {
    "id": "AzjeRXfsDs6V"
   },
   "source": [
    "### As the above code executes, think about the following questions:\n",
    "\n",
    "1. What does df['Area'] do?\n",
    "2. What does the inplace=True do in line 13?\n",
    "3. What does line 18 do?"
   ]
  },
  {
   "cell_type": "markdown",
   "metadata": {
    "id": "_jZq-YD_FIhB"
   },
   "source": [
    "## 9.4 Pandas file reading and statistics basics (Group)\n",
    "\n",
    "**Write a porgram that will do the following:**\n",
    "1. Take the raisins dateset and break it into 2 datasets by class label.\n",
    "2. One dataset should be the Kecimen class and the second should be the Besni class.\n",
    "3. Find the mean of each column in the two new datasets.\n",
    "4. Find the standard deviation for each column of the dataset.\n",
    "5. Which column best predicts the class label?\n"
   ]
  },
  {
   "cell_type": "code",
   "execution_count": null,
   "metadata": {
    "id": "1S6fIJ-qFhf3"
   },
   "outputs": [],
   "source": [
    "\n"
   ]
  },
  {
   "cell_type": "markdown",
   "metadata": {
    "id": "IZlevFMKDbt1"
   },
   "source": [
    "## 9.5 Pandas project (Group)\n",
    "\n",
    "**Write a program that will do the following:**\n",
    "1. Read in the team summaries datset included.  \n",
    "2. Do some basic statistical analysis.  \n",
    "3. Try to create an argument to determine the best NBA team of all time.  \n",
    "4. You may also use a different dataset and do a different analysis. \n",
    "5. Use the pandas library in your project."
   ]
  },
  {
   "cell_type": "code",
   "execution_count": null,
   "metadata": {
    "id": "LiTjIBaTFiQK"
   },
   "outputs": [],
   "source": [
    "# Below is the website for the NBA dataset\n",
    "# https://www.kaggle.com/sumitrodatta/nba-aba-baa-stats\n",
    "\n"
   ]
  },
  {
   "cell_type": "code",
   "execution_count": null,
   "metadata": {
    "id": "As80q-93FiTN"
   },
   "outputs": [],
   "source": [
    "\n"
   ]
  }
 ],
 "metadata": {
  "colab": {
   "collapsed_sections": [],
   "name": "WSK_Week 9 Solutions.ipynb",
   "provenance": []
  },
  "kernelspec": {
   "display_name": "Python 3",
   "language": "python",
   "name": "python3"
  },
  "language_info": {
   "codemirror_mode": {
    "name": "ipython",
    "version": 3
   },
   "file_extension": ".py",
   "mimetype": "text/x-python",
   "name": "python",
   "nbconvert_exporter": "python",
   "pygments_lexer": "ipython3",
   "version": "3.8.8"
  }
 },
 "nbformat": 4,
 "nbformat_minor": 1
}
