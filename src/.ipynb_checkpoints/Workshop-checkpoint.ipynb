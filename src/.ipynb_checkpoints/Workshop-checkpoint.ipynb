{
 "cells": [
  {
   "cell_type": "markdown",
   "id": "6aa623d4",
   "metadata": {},
   "source": [
    "# Workshop 1 \n",
    "\n",
    "This notebook will cover the following topics:\n",
    "\n",
    "1. Basic Input/Output and formatting\n",
    "2. Decision Structure and Boolean Logic\n",
    "3. Basic Loop Structures\n",
    "4. Data Structures"
   ]
  },
  {
   "cell_type": "markdown",
   "id": "e5701dcc",
   "metadata": {},
   "source": [
    "## 1.1 Basic Input/Output and formatting (Follow):  \n",
    "\n",
    "**Learning Objectives:**\n",
    "\n",
    "    1. Perform basic input and output for a user\n",
    "    2. Format input and output\n",
    "    3. Perform basic math on input and output\n",
    "    4. Understand different datatypes "
   ]
  },
  {
   "cell_type": "code",
   "execution_count": 79,
   "id": "2a549144",
   "metadata": {},
   "outputs": [
    {
     "name": "stdout",
     "output_type": "stream",
     "text": [
      "This is a print statement\n",
      "Try printing some different things including number 5\n",
      "Enter a short string here:11\n",
      "The string you input is:  11\n",
      "This will print a float number with 2 decimal places:  2.00\n",
      "This will multiply 5 times 10 and display the result:  50\n"
     ]
    }
   ],
   "source": [
    "# Add comments below \n",
    "\n",
    "# This is a normal string print\n",
    "print (\"This is a print statement\")\n",
    "# This is is f tring print with number\n",
    "print (f\"Try printing some different things including number {5}\")\n",
    "\n",
    "# Get input from user and store in input_string\n",
    "input_string = input(\"Enter a short string here:\")\n",
    "\n",
    "# Display the user input\n",
    "print (\"The string you input is: \", input_string)\n",
    "\n",
    "# define float_number value 2\n",
    "float_number = 2\n",
    "# print the float number with 2 decimal place format\n",
    "print(\"This will print a float number with 2 decimal places: \", format(float_number, '.2f'))\n",
    "\n",
    "num1 = 5\n",
    "num2 = 10\n",
    "print(f\"This will multiply {num1} times {num2} and display the result: \", num1*num2)"
   ]
  },
  {
   "cell_type": "markdown",
   "id": "02bf6cb8",
   "metadata": {},
   "source": [
    "## 1.1 Basic Input/Output and formatting (Group):  \n",
    "\n",
    "1. Create a small program that will take a celcius temperature from the user and convert it to fahrenheit\n",
    "2. Print the output result to 3 decimal places\n",
    "3. Print a degree sign after the output\n",
    "4. Try to figure out how to create the program in the fewest lines possible \n",
    "\n",
    "Fahrenheit = (9/5)(Degrees Celcius) + 32"
   ]
  },
  {
   "cell_type": "code",
   "execution_count": 77,
   "id": "a299e7be",
   "metadata": {},
   "outputs": [],
   "source": [
    "def calculate_fahrenheit(celcius_degree):\n",
    "    return (format((float(celcius_degree)*9)/5+32,'.3f'))"
   ]
  },
  {
   "cell_type": "code",
   "execution_count": 78,
   "id": "99747eeb",
   "metadata": {},
   "outputs": [
    {
     "name": "stdout",
     "output_type": "stream",
     "text": [
      "Please enter a degree in celius: 34\n",
      "93.200\n"
     ]
    }
   ],
   "source": [
    "cel_input = input('Please enter a degree in celius: ')\n",
    "print(calculate_fahrenheit(cel_input))"
   ]
  },
  {
   "cell_type": "markdown",
   "id": "585c66e4",
   "metadata": {},
   "source": [
    "## 1.2 Decision Structure and Boolean Logic (Follow):  \n",
    "\n",
    "**Learning Objectives:**\n",
    "\n",
    "    1. Understand boolean logic and logical operators\n",
    "    2. Understand If/Else statements and program flow"
   ]
  },
  {
   "cell_type": "code",
   "execution_count": 72,
   "id": "c789d6c4",
   "metadata": {},
   "outputs": [
    {
     "name": "stdout",
     "output_type": "stream",
     "text": [
      "Enter a number (1-7) for the day of the week: 1\n",
      "Monday\n"
     ]
    }
   ],
   "source": [
    "#Add comments below \n",
    "\n",
    "day = int(input('Enter a number (1-7) for the day of the week: '))\n",
    "\n",
    "if day == 1:\n",
    "    print('Monday')\n",
    "elif day == 2:\n",
    "    print('Tuesday')\n",
    "elif day == 3:\n",
    "    print('Wednesday')\n",
    "elif day == 4:\n",
    "    print ('Thursday')\n",
    "elif day == 5:\n",
    "    print ('Friday')\n",
    "elif day == 6:\n",
    "    print ('Saturday')\n",
    "elif day == 7:\n",
    "    print ('Sunday')\n",
    "else:\n",
    "    print ('Error: Please enter a number in the range 1-7.')\n"
   ]
  },
  {
   "cell_type": "markdown",
   "id": "43e4111a",
   "metadata": {},
   "source": [
    "After running this program, think about and answer these questions:\n",
    "\n",
    "1. What is the program doing?\n",
    "2. Does every line in the code execute, explain?\n",
    "3. Could you find a way to break it?"
   ]
  },
  {
   "cell_type": "markdown",
   "id": "894c152c",
   "metadata": {},
   "source": [
    "#### Answer:\n",
    "1. What is the program doing: The program print out the day of the week with respective number (start with 1 for Monday and 7 for Sunday)\n",
    "2. Does every line in the code execute: Yes, everyline of code execute with taking input then go through if-elif-else condition (All the syntax and else if else is in correct order and connected)\n",
    "3. Could you find a way to break it: Yes, just enter a string and it will break. I include a solution below to fix this bby validation the input inside the function instead parse it in the get input"
   ]
  },
  {
   "cell_type": "code",
   "execution_count": 74,
   "id": "356d70c7",
   "metadata": {},
   "outputs": [],
   "source": [
    "def day_of_week(number):\n",
    "    if number.isdigit() and int(number) in range(1,8):\n",
    "        week_days=['Monday', 'Tuesday', 'Wednesday', 'Thursday', 'Friday','Saturday','Sunday']\n",
    "        print(week_days[int(number)-1])\n",
    "    else:\n",
    "        print('Please enter a number from 1 to 7 only!')"
   ]
  },
  {
   "cell_type": "code",
   "execution_count": 75,
   "id": "e03685a0",
   "metadata": {},
   "outputs": [
    {
     "name": "stdout",
     "output_type": "stream",
     "text": [
      "Enter a number (1-7) for the day of the week: 3\n",
      "Wednesday\n"
     ]
    }
   ],
   "source": [
    "day = input('Enter a number (1-7) for the day of the week: ')\n",
    "day_of_week(day)"
   ]
  },
  {
   "cell_type": "code",
   "execution_count": 7,
   "id": "3c44ba1e",
   "metadata": {},
   "outputs": [
    {
     "name": "stdout",
     "output_type": "stream",
     "text": [
      "Enter the first primary color in lower case letters: dsfus9df8s9dsdf\n",
      "Enter the second primary color in lower case letters: sdf\n",
      "Error: The first color you entered is invalid.\n"
     ]
    }
   ],
   "source": [
    "#Add comments below \n",
    "\n",
    "RED = 'red'\n",
    "BLUE = 'blue'\n",
    "YELLOW = 'yellow'\n",
    "\n",
    "color1 = input('Enter the first primary color in lower case letters: ')\n",
    "\n",
    "color2 = input('Enter the second primary color in lower case letters: ')\n",
    "\n",
    "if color1 != RED and color1 != BLUE and color1 != YELLOW:\n",
    "    print('Error: The first color you entered is invalid.')\n",
    "\n",
    "elif color2 != RED and color2 != BLUE and color2 != YELLOW:\n",
    "    print('Error: The second color you entered is invalid.')\n",
    "\n",
    "elif color1 == color2:\n",
    "    print('Error: The two colors you entered are the same.')\n",
    "\n",
    "else:\n",
    "    if color1 == RED:\n",
    "        if color2 == BLUE:\n",
    "            print('purple')\n",
    "        else: \n",
    "            print('orange')\n",
    "\n",
    "    elif color1 == BLUE:\n",
    "        if color2 == RED:\n",
    "            print('purple')\n",
    "        else: \n",
    "            print('green')\n",
    "\n",
    "    else: \n",
    "        if color2 == RED:\n",
    "            print('orange')\n",
    "        else: \n",
    "            print('green')"
   ]
  },
  {
   "cell_type": "markdown",
   "id": "1907b64b",
   "metadata": {},
   "source": [
    "After running this program, think about and answer these questions:\n",
    "\n",
    "1. What is the program doing?\n",
    "2. Does every line in the code execute, explain?\n",
    "3. Could you find a way to break it?\n",
    "4. Replace the 'ands' with 'ors' and discuss how the program executes now."
   ]
  },
  {
   "cell_type": "markdown",
   "id": "75213303",
   "metadata": {},
   "source": [
    "After running this program, think about and answer these questions:\n",
    "\n",
    "1. What is the program doing: Program take 2 color of user input (out of 3 color: red, blue green) and output the mixed color of user input's color. The prgram also validate the user input to make sure input is validate\n",
    "2. Does every line in the code execute, explain: Yes, every line of code is execute. The code follow if-elif-else nested if structure and corrected indent. Therefore, every line of code is executed.\n",
    "3. Could you find a way to break it? Nope, it is well structure and cant break. The only missing case is both color 1 and color is invalid, it would be nice to print it out.\n",
    "4. Replace the 'ands' with 'ors' and discuss how the program executes now: Well if "
   ]
  },
  {
   "cell_type": "markdown",
   "id": "63dc57b5",
   "metadata": {},
   "source": [
    "## 1.2 Decision Structure and Boolean Logic (Group):  \n",
    "\n",
    "Develop a program that will do the following:\n",
    "\n",
    "1. Take input from the user for length and width for two different sets of numbers. Fours total inputs.\n",
    "2. Multiply the length and width together and find the area for the two different sets of numbers.\n",
    "3. Compare the areas and print which one is larger.\n",
    "4. Be sure to handle non-numeric inputs.  "
   ]
  },
  {
   "cell_type": "code",
   "execution_count": null,
   "id": "2ea973fd",
   "metadata": {},
   "outputs": [],
   "source": []
  },
  {
   "cell_type": "markdown",
   "id": "911655fb",
   "metadata": {},
   "source": [
    "## 1.3 Basic loop structures (Follow):\n",
    "\n",
    "**Learning Objectives:**\n",
    "\n",
    "\n",
    "    1. Understanding repetative structures\n",
    "    2. Understanding while loops\n",
    "    3. Understanding for loops\n",
    "    4. Nested loops and order N run time"
   ]
  },
  {
   "cell_type": "code",
   "execution_count": null,
   "id": "e49cc8ee",
   "metadata": {},
   "outputs": [],
   "source": [
    "#Add comments below\n",
    "\n",
    "number = 1.0    \n",
    "total = 0.0\n",
    "\n",
    "while number > 0:\n",
    "    number = float(input('Enter a positive number (negative to quit): '))\n",
    "\n",
    "    if number > 0:\n",
    "        total = total + number\n",
    "\n",
    "print (f'Total = {total:.2f}') "
   ]
  },
  {
   "cell_type": "markdown",
   "id": "a3a96e6e",
   "metadata": {},
   "source": [
    "After running this program, think about and answer these questions:\n",
    "\n",
    "1. What is the program doing?\n",
    "2. How many time does each line in the code execute, explain?\n",
    "3. Could you find a way to break it?\n",
    "4. Try to rewrite the program using a for loop."
   ]
  },
  {
   "cell_type": "code",
   "execution_count": null,
   "id": "335f18b0",
   "metadata": {},
   "outputs": [],
   "source": [
    "# Add comments to the program\n",
    "\n",
    "caloriesPerMinute = 4.2\n",
    "\n",
    "caloriesBurned = 0.0\n",
    "minutes = 0\n",
    "\n",
    "print ('Minutes\\t\\tCalories Burned')\n",
    "print ('-------------------------------')\n",
    "\n",
    "for minutes in range(10, 31, 5):\n",
    "    caloriesBurned = caloriesPerMinute * minutes\n",
    "    print (minutes, \"\\t\\t\", caloriesBurned) "
   ]
  },
  {
   "cell_type": "markdown",
   "id": "9f1cadd1",
   "metadata": {},
   "source": [
    "After running this program, think about and answer these questions:\n",
    "\n",
    "1. What is the program doing?\n",
    "2. How many time does each line in the code execute, explain?\n",
    "3. Could you find a way to break it?\n",
    "4. Try to rewrite the program using a while loop."
   ]
  },
  {
   "cell_type": "code",
   "execution_count": null,
   "id": "d76c9d80",
   "metadata": {},
   "outputs": [],
   "source": [
    "# Add comments to the program \n",
    "\n",
    "totalRainfall = 0.0\n",
    "monthRainfall = 0.0\n",
    "averageRainfall = 0.0\n",
    "years = 0\n",
    "totalMonths = 0\n",
    "\n",
    "years = int(input('Enter the number of years: '))\n",
    "\n",
    "for year in range(years):\n",
    "    print (f'For year {year + 1}:')\n",
    "    for month in range(12):\n",
    "        monthRainfall = float(input('Enter the rainfall amount for the month: '))\n",
    "        totalMonths += 1\n",
    "        totalRainfall += monthRainfall\n",
    "        \n",
    "averageRainfall = totalRainfall / totalMonths\n",
    "\n",
    "print(f'For {totalMonths} months')\n",
    "print(f'Total rainfall: {totalRainfall:,.2f} inches')\n",
    "print(f'Average monthly rainfall: {averageRainfall:,.2f} inches')"
   ]
  },
  {
   "cell_type": "markdown",
   "id": "8d5c38ce",
   "metadata": {},
   "source": [
    "After running this program, think about and answer these questions:\n",
    "\n",
    "1. What is the program doing?\n",
    "2. How many time does each line in the code execute, explain?\n",
    "3. Could you find a way to break it?\n",
    "4. Compare the number of executuions for the inner for loop to the outer for loop.\n",
    "5. What order of magnitude larger are the inner instructions executing?"
   ]
  },
  {
   "cell_type": "markdown",
   "id": "692ff763",
   "metadata": {},
   "source": [
    "## 1.3 Basic loop structures (Group):\n",
    "\n",
    "Develop a program that will:\n",
    "\n",
    "1. Take input from the user asking how many organisms to start with.\n",
    "2. Take input from the user asking the average daily increase for the organisms.\n",
    "3. Take input from the user asking the number of days to multiply.\n",
    "4. Make sure the daily increase was entered as a percentage, if not correct it.\n",
    "5. Print each day and the increase in organsisms for each day. \n",
    "6. Make sure to format the printing so that it is readable."
   ]
  },
  {
   "cell_type": "code",
   "execution_count": null,
   "id": "577d4a32",
   "metadata": {},
   "outputs": [],
   "source": []
  },
  {
   "cell_type": "markdown",
   "id": "d3f4e8f9",
   "metadata": {},
   "source": [
    "## 1.4 Data Structures (Follow):\n",
    "\n",
    "**Learning Objectives:**\n",
    "\n",
    "    1. Understand list and tuples\n",
    "    2. Understand dictionaries and sets\n",
    "    3. Understand strings"
   ]
  },
  {
   "cell_type": "code",
   "execution_count": null,
   "id": "c6961f7a",
   "metadata": {},
   "outputs": [],
   "source": [
    "# Add comments to the program\n",
    "\n",
    "total_sales = 0.0\n",
    "\n",
    "daily_sales_tuple = (7.0, 5.0, 3.2, 1.7, 6.0, 4.9, 1.1) \n",
    "daily_sales_list = [7.0, 5.0, 3.2, 1.7, 6.0, 4.9, 1.1]\n",
    "\n",
    "days_of_week = ['Sunday', 'Monday', 'Tuesday',\n",
    "                    'Wednesday', 'Thursday', 'Friday',\n",
    "                    'Saturday']\n",
    "\n",
    "for number in daily_sales_list:\n",
    "        total_sales += number\n",
    "\n",
    "print (f'Total sales for the week: ${total_sales:,.2f}')\n",
    "\n",
    "total_sales = 0.0\n",
    "for number in daily_sales_tuple:\n",
    "        total_sales += number\n",
    "\n",
    "print (f'Total sales for the week: ${total_sales:,.2f}')\n",
    "\n",
    "\n",
    "print (f'Sales per day: ')\n",
    "for i in range(7):\n",
    "        print(f\"{days_of_week[i] : <10}\", f\"{daily_sales_list[i] : >20}\")\n",
    "        print(f\"{days_of_week[i] : <10}\", f\"{daily_sales_tuple[i] : >20}\")\n",
    "        \n",
    "daily_sales_list[5] = 10.0 \n",
    "#daily_sales_tuple[5] = 10.0  #uncomment this line to see what happens\n",
    "\n",
    "new_value = 3.2\n",
    "daily_sales_list.append(new_value)\n",
    "new_daily_sales_tuple = daily_sales_tuple + (new_value,)\n",
    "\n",
    "days_of_week.append('Sunday')\n",
    "\n",
    "print(\"\")\n",
    "print (f'Sales per day: ')\n",
    "for i in range(len(days_of_week)):\n",
    "        print(f\"{days_of_week[i] : <10}\", f\"{daily_sales_list[i] : >20}\")\n",
    "        print(f\"{days_of_week[i] : <10}\", f\"{new_daily_sales_tuple[i] : >20}\")"
   ]
  },
  {
   "cell_type": "markdown",
   "id": "80e0ab0a",
   "metadata": {},
   "source": [
    "After running the above code, think about and answer the following questions:\n",
    "\n",
    "1. What is the program doing?\n",
    "2. What does the append function do?\n",
    "3. Which actual entry is changed when setting daily sales[5] to 10?\n",
    "4. Discuss and the similarities and differences between lists and tuples."
   ]
  },
  {
   "cell_type": "code",
   "execution_count": null,
   "id": "0f441b4b",
   "metadata": {},
   "outputs": [],
   "source": [
    "# Add comments to the program\n",
    "\n",
    "import random\n",
    "\n",
    "capitals = {'Alabama':'Montgomery', 'Alaska':'Juneau',\n",
    "                'Arizona':'Phoenix', 'Arkansas':'Little Rock',\n",
    "                'California':'Sacramento', 'Colorado':'Denver',\n",
    "                'Connecticut':'Hartford', 'Delaware':'Dover',\n",
    "                'Florida':'Tallahassee', 'Georgia':'Atlanta',\n",
    "                'Hawaii':'Honolulu', 'Idaho':'Boise',\n",
    "                'Illinois':'Springfield', 'Indiana':'Indianapolis',\n",
    "                'Iowa':'Des Moines', 'Kansas':'Topeka',\n",
    "                'Kentucky':'Frankfort', 'Louisiana':'Baton Rouge',\n",
    "                'Maine':'Augusta', 'Maryland':'Annapolis',\n",
    "                'Massachusetts':'Boston', 'Michigan':'Lansing',\n",
    "                'Minnesota':'Saint Paul', 'Mississippi':'Jackson',\n",
    "                'Missouri':'Jefferson City', 'Montana':'Helena',\n",
    "                'Nebraska':'Lincoln', 'Nevada':'Carson City',\n",
    "                'New Hampshire':'Concord', 'New Jersey':'Trenton',\n",
    "                'New Mexico':'Santa Fe', 'New York':'Albany',\n",
    "                'North Carolina':'Raleigh', 'North Dakota':'Bismarck',\n",
    "                'Ohio':'Columbus', 'Oklahoma':'Oklahoma City',\n",
    "                'Oregon':'Salem', 'Pennsylvania':'Harrisburg',\n",
    "                'Rhode Island':'Providence', 'South Carolina':'Columbia',\n",
    "                'South Dakota':'Pierre', 'Tennessee':'Nashville',\n",
    "                'Texas':'Austin', 'Utah':'Salt Lake City',\n",
    "                'Vermont':'Montpelier', 'Virginia':'Richmond',\n",
    "                'Washington':'Olympia', 'West Virginia':'Charleston',\n",
    "                'Wisconsin':'Madison', 'Wyoming':'Cheyenne'}\n",
    "                \n",
    "correct = 0\n",
    "wrong = 0\n",
    "next_question = True\n",
    "index = 0\n",
    "user_solution = ''\n",
    "\n",
    "\n",
    "while next_question:\n",
    "\n",
    "    state_iterator = iter(capitals)\n",
    "        \n",
    "    index = (random.randint(1,50) - 1)\n",
    "    for i in range (index-1):\n",
    "        temp = state_iterator.__next__()\n",
    "    current_state = str(state_iterator.__next__())\n",
    "\n",
    "    user_solution = input(f'What is the capital of {current_state}? 'f'(or enter 0 to quit): ')\n",
    "        \n",
    "    if user_solution == '0': \n",
    "        next_question = False\n",
    "        print(f'You had {correct} correct responses and 'f'{wrong} incorrect responses.')  \n",
    "        \n",
    "    elif user_solution == capitals[current_state]:\n",
    "        correct = correct + 1\n",
    "        print('That is correct.')\n",
    "        \n",
    "    else:\n",
    "        wrong = wrong + 1\n",
    "        print('That is incorrect.')"
   ]
  },
  {
   "cell_type": "markdown",
   "id": "49dd8969",
   "metadata": {},
   "source": [
    "After running the above code, think about and answer the following questions:\n",
    "\n",
    "1. What is the program doing?\n",
    "2. What does a key in a dictionary do? What does the value in a dictionary do?\n",
    "3. Where would you be more likely to use a dictionary versus using a list or tuple?\n",
    "4. How are dictionaries different from tuples and lists?"
   ]
  },
  {
   "cell_type": "code",
   "execution_count": null,
   "id": "20bfab22",
   "metadata": {},
   "outputs": [],
   "source": [
    "# add comments to the program\n",
    "\n",
    "baseball = set(['Jodi', 'Carmen', 'Aida', 'Alicia'])\n",
    "basketball = set(['Eva', 'Carmen', 'Alicia', 'Sarah'])\n",
    "\n",
    "print('The following students are on the baseball team:')\n",
    "for name in baseball:\n",
    "    print(name)\n",
    "\n",
    "print()\n",
    "print('The following students are on the basketball team:')\n",
    "for name in basketball:\n",
    "    print(name)\n",
    "\n",
    "print()\n",
    "print('The following students play both baseball and basketball:')\n",
    "for name in baseball.intersection(basketball):\n",
    "    print(name)\n",
    "\n",
    "print()\n",
    "print('The following students play either baseball or basketball:')\n",
    "for name in baseball.union(basketball):\n",
    "    print(name)\n",
    "\n",
    "print()\n",
    "print('The following students play baseball, but not basketball:')\n",
    "for name in baseball.difference(basketball):\n",
    "    print(name)\n",
    "\n",
    "print()\n",
    "print('The following students play basketball, but not baseball:')\n",
    "for name in basketball.difference(baseball):\n",
    "    print(name)\n",
    "\n",
    "print()\n",
    "print('The following students play one sport, but not both:')\n",
    "for name in baseball.symmetric_difference(basketball):\n",
    "    print(name)"
   ]
  },
  {
   "cell_type": "markdown",
   "id": "888a9790",
   "metadata": {},
   "source": [
    "After running the above code, think about and answer the following questions:\n",
    "\n",
    "1. What is the program doing?\n",
    "2. What does a set do and how is it used above?\n",
    "3. Where would you be more likely to use a set versus using a dictionary, list, or tuple?\n",
    "4. How are sets different from dictionaries, tuples, and lists?"
   ]
  },
  {
   "cell_type": "markdown",
   "id": "be0404fc",
   "metadata": {},
   "source": [
    "## 1.4 Data Structures (Group):\n",
    "\n",
    "Create a program that does the following:\n",
    "\n",
    "1. Take the two lists provided and count the frequency of each word in each list.\n",
    "2. Create a dictionary with the key equal to each unique word and count as the value.\n",
    "3. Print off a list of words that are in both lists.\n",
    "4. Print off a list of words that are in the first list and not the second.\n",
    "5. Print off a list of words that are in the second list and not in the first.\n"
   ]
  },
  {
   "cell_type": "code",
   "execution_count": null,
   "id": "aadff174",
   "metadata": {},
   "outputs": [],
   "source": [
    "list1 = ['the', 'quick', 'brown', 'fox', 'jumps', 'over', 'the', 'lazy', 'dog']\n",
    "\n",
    "list2 = ['jack', 'be', 'nimble', 'jack', 'be', 'quick', 'jack', 'jumps', 'over', 'the', 'candlestick']"
   ]
  }
 ],
 "metadata": {
  "kernelspec": {
   "display_name": "Python 3",
   "language": "python",
   "name": "python3"
  },
  "language_info": {
   "codemirror_mode": {
    "name": "ipython",
    "version": 3
   },
   "file_extension": ".py",
   "mimetype": "text/x-python",
   "name": "python",
   "nbconvert_exporter": "python",
   "pygments_lexer": "ipython3",
   "version": "3.8.8"
  }
 },
 "nbformat": 4,
 "nbformat_minor": 5
}
