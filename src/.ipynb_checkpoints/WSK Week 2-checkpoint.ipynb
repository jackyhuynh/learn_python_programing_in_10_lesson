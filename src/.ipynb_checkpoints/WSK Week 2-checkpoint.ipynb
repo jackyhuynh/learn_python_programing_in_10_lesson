{
 "cells": [
  {
   "cell_type": "markdown",
   "id": "7651ec5f",
   "metadata": {},
   "source": [
    "```\n",
    "Truc Huynh\n",
    "1/18/2022\n",
    "Workshop\n",
    "```"
   ]
  },
  {
   "cell_type": "markdown",
   "id": "2c77e88b",
   "metadata": {},
   "source": [
    "# Workshop 2\n",
    "\n",
    "This notebook will cover the following topics:\n",
    "\n",
    "1. Introduction to functions and modular design\n",
    "2. Passing arguments to functions\n",
    "3. Functions that return nothing and functions that return something\n",
    "4. Local and global variables "
   ]
  },
  {
   "cell_type": "markdown",
   "id": "e33c30f5",
   "metadata": {},
   "source": [
    "## 2.1 Function Calls and Program Flow (Follow):  \n",
    "\n",
    "**Learning Objectives:**\n",
    "\n",
    "    1. Understand how functions are called.\n",
    "    2. Understand the need for functions in programs.\n",
    "    3. Trace the execution of a program through a function call.\n",
    "    4. Understand the need for modular design in a program."
   ]
  },
  {
   "cell_type": "code",
   "execution_count": 1,
   "id": "fa1b562d",
   "metadata": {},
   "outputs": [
    {
     "name": "stdout",
     "output_type": "stream",
     "text": [
      "I have a message for you.\n",
      "I am Arthur\n",
      "King of the Britons.\n",
      "Goodbye!\n"
     ]
    }
   ],
   "source": [
    "# Add comments to the code \n",
    "# Put numbers next to the lines in the order the program executes\n",
    "\n",
    "# define main functon that call message inside main\n",
    "def main():\n",
    "    print('I have a message for you.')\n",
    "    message()\n",
    "    print('Goodbye!')\n",
    "\n",
    "# define message function that print out\n",
    "def message():\n",
    "    print('I am Arthur')\n",
    "    print('King of the Britons.')\n",
    "\n",
    "\n",
    "main()\n"
   ]
  },
  {
   "cell_type": "code",
   "execution_count": 2,
   "id": "8dddb31c",
   "metadata": {},
   "outputs": [
    {
     "name": "stdout",
     "output_type": "stream",
     "text": [
      "Enter the number of feet: 12\n",
      "12.0 feet = 144.0 inches\n"
     ]
    }
   ],
   "source": [
    "# Add comments to the code \n",
    "# put numbers next to the lines in the order the program executes\n",
    "\n",
    "# main function that get the feet input from user and convert to inches \n",
    "def main():\n",
    "\n",
    "    feet = 0.0\n",
    "    inches = 0.0\n",
    "\n",
    "    feet = float(input('Enter the number of feet: '))\n",
    "\n",
    "    inches = feet_to_inches(feet)\n",
    "    print (f'{feet} feet = {inches} inches')\n",
    "\n",
    "    \n",
    "# convert feet to inches\n",
    "def feet_to_inches(feet):\n",
    "    return 12 * feet\n",
    "\n",
    "\n",
    "main()\n"
   ]
  },
  {
   "cell_type": "markdown",
   "id": "8f34e0a3",
   "metadata": {},
   "source": [
    "### As the above code executes, think about the following questions:\n",
    "\n",
    "1. What is the first thing that is executed? main execute and call feet_to_inches inside main\n",
    "2. What is the second thing, and so on?\n",
    "3. Why would someone need to create a function in a program? to put together a set of instruction and re-use ability\n",
    "4. Try inserting some print statements into the above code to trace the execution. "
   ]
  },
  {
   "cell_type": "markdown",
   "id": "69bd6992",
   "metadata": {},
   "source": [
    "## 2.1 Function Calls and Program Flow (Group): \n",
    "\n",
    "Write a program that will do the following:\n",
    "\n",
    "1. Convert kilometers to miles.\n",
    "2. Take input from the user in miles\n",
    "3. Create a function that will convert the input to kilometers\n",
    "4. Output the answer to the user.\n",
    "\n",
    "1 kilometer = .6214 miles\n",
    "\n",
    "1 mile = 1.609 kilometers"
   ]
  },
  {
   "cell_type": "code",
   "execution_count": 4,
   "id": "674388d5",
   "metadata": {},
   "outputs": [
    {
     "name": "stdout",
     "output_type": "stream",
     "text": [
      "Please enter user input in kilometer: 12\n",
      "12.0 miles is 20.2908 kilometers\n"
     ]
    }
   ],
   "source": [
    "# add code here\n",
    "def main():\n",
    "    kilometers = 0\n",
    "    miles = 0\n",
    "    miles = float(input('Please enter user input in kilometer: '))\n",
    "    kilometers = kilometers_to_miles(miles)\n",
    "    print(f\"{miles} miles is {kilometers} kilometers\")\n",
    "\n",
    "\n",
    "def kilometers_to_miles(miles):\n",
    "    return miles * 1.6909\n",
    "\n",
    "\n",
    "main()"
   ]
  },
  {
   "cell_type": "markdown",
   "id": "e5adbdd3",
   "metadata": {},
   "source": [
    "## 2.2 Passing Arguments to Functions (Follow):  \n",
    "\n",
    "**Learning Objectives:**\n",
    "\n",
    "    1. Understand how arguments are passed to a function.\n",
    "    2. Understand what arguments can be passed to a function.\n",
    "    "
   ]
  },
  {
   "cell_type": "code",
   "execution_count": 6,
   "id": "d94cc193",
   "metadata": {},
   "outputs": [
    {
     "name": "stdout",
     "output_type": "stream",
     "text": [
      "Enter the present value of the account in dollars: 123\n",
      "Enter the monthly interest rate as a  percentage: .03\n",
      "Enter the number of months: 12\n",
      "The information for your account is:\n",
      "Present value: $123.00\n",
      "Interest Rate: 3.00%\n",
      "After 12 months, the value of your account will be: \n",
      " $ 123.44\n"
     ]
    }
   ],
   "source": [
    "# add comments to the code\n",
    "\n",
    "def main():\n",
    "    # define value\n",
    "    presentValue = 0.0\n",
    "    interestRate = 0.0\n",
    "    months = 0\n",
    "    futureValue = 0.0\n",
    "    \n",
    "    # get user input for current value\n",
    "    presentValue = float(input('Enter the present value '\n",
    "                               'of the account in dollars: '))\n",
    "    # get user input for interest rate\n",
    "    interestRate = float(input('Enter the monthly interest '\n",
    "                               'rate as a  percentage: '))\n",
    "    # get user inpu for months\n",
    "    months = int(input('Enter the number of months: '))\n",
    "    \n",
    "    # pretty print user information\n",
    "    print('The information for your account is:')\n",
    "    print(f'Present value: ${presentValue:.2f}')\n",
    "    print(f'Interest Rate: {interestRate:.2%}')\n",
    "    print(f'After {months} months, the value of your account will be: ')\n",
    "    getFutureValue(presentValue, interestRate, months)\n",
    "\n",
    "\n",
    "def getFutureValue(presentValue, interestRate, months):\n",
    "    F = 0.0\n",
    "    i = interestRate / 100 \n",
    "    futureValue = presentValue * ((1 + i) **months)\n",
    "    print(f' $', f'{futureValue:,.2f}')\n",
    "\n",
    "    \n",
    "main()"
   ]
  },
  {
   "cell_type": "code",
   "execution_count": 7,
   "id": "5d716c8c",
   "metadata": {},
   "outputs": [
    {
     "name": "stdout",
     "output_type": "stream",
     "text": [
      "Enter a number, zero to exit: 12\n",
      "Enter a number, zero to exit: 32\n",
      "Enter a number, zero to exit: 23\n",
      "Enter a number, zero to exit: 12\n",
      "Enter a number, zero to exit: 12\n",
      "Enter a number, zero to exit: 0\n",
      "91.0\n"
     ]
    }
   ],
   "source": [
    "# add comments to the code\n",
    "\n",
    "def main():\n",
    "    a_list = []\n",
    "    list_value = 1\n",
    "    # while loop create a float list that not contain 0\n",
    "    while list_value != 0:\n",
    "        list_value = float(input('Enter a number, zero to exit: '))\n",
    "        a_list.append(list_value) \n",
    "    # get the total sum here\n",
    "    find_sum(a_list)\n",
    "\n",
    "\n",
    "    # find sum receive a list and calculate the total of the list\n",
    "def find_sum(some_list):\n",
    "    sum = 0\n",
    "    for number in some_list:\n",
    "        sum += number\n",
    "    \n",
    "    print(sum)\n",
    "    \n",
    "main()"
   ]
  },
  {
   "cell_type": "markdown",
   "id": "a9cdc596",
   "metadata": {},
   "source": [
    "### As the above code executes, think about the following questions:\n",
    "\n",
    "1. Trace the execution of the code by placing print statements throughout.\n",
    "2. How do the arguments being passed into the function compare to the arguments being used to call the function? Pass by reference\n",
    "3. Change the name of the arguments in the function and see what happens. Nothing happen, run good\n",
    "4. What does the plus equal do in the second program?"
   ]
  },
  {
   "cell_type": "markdown",
   "id": "68899c00",
   "metadata": {},
   "source": [
    "## 2.2 Passing arguments to functions (Group): \n",
    "\n",
    "Write a program that will do the following:\n",
    "\n",
    "1. Take a number input from the user.\n",
    "2. Compute the factorial of that number.\n",
    "3. You may not use any libraries for this program.  \n",
    "4. Print the factorial for the number input to the user.\n",
    "\n",
    "### Caution:  There is an upper limit to the number that can be computed.\n",
    "\n",
    "N Factorial = N! = N(N-1)(N-2)...(1)"
   ]
  },
  {
   "cell_type": "code",
   "execution_count": 13,
   "id": "76d6fc0e",
   "metadata": {},
   "outputs": [
    {
     "name": "stdout",
     "output_type": "stream",
     "text": [
      "Please enter an integer here: 10\n",
      "The factorial of 10 is 3628800\n"
     ]
    }
   ],
   "source": [
    "#add code here\n",
    "# Assume all input will be integer\n",
    "def main():\n",
    "    user_input = int(input('Please enter an integer here: '))\n",
    "    print(f\"The factorial of {user_input} is {factorial(user_input)}\")\n",
    "\n",
    "    \n",
    "def factorial(user_input):\n",
    "    sum=1\n",
    "    for i in range(1,user_input+1):\n",
    "        sum*=i\n",
    "        #print(sum)\n",
    "    return sum\n",
    "\n",
    "\n",
    "main()"
   ]
  },
  {
   "cell_type": "markdown",
   "id": "4e7aab1c",
   "metadata": {},
   "source": [
    "## 2.3  Functions that return nothing and functions that return something (Follow):  \n",
    "\n",
    "**Learning Objectives:**\n",
    "\n",
    "    1. Understand what it means for a function to return something.\n",
    "    2. Understand how what a function returns can be used in other functions.\n",
    "    3. Understand what can be returned by a function.\n",
    "    "
   ]
  },
  {
   "cell_type": "code",
   "execution_count": 44,
   "id": "09ff1969",
   "metadata": {},
   "outputs": [
    {
     "name": "stdout",
     "output_type": "stream",
     "text": [
      "   14\n",
      "+ 370\n",
      "Enter sum of numbers: 123\n",
      "Incorrect... The correct answer is: 384\n"
     ]
    }
   ],
   "source": [
    "# add comments to the code\n",
    "\n",
    "import random\n",
    "\n",
    "def main():\n",
    "    # create and assign some value to 0\n",
    "    num1 = 0\n",
    "    num2 = 0\n",
    "    correctAnswer = 0\n",
    "    userAnswer = 0\n",
    "    \n",
    "    num1 = random.randint(0, 999) # create an random integer between 0 and 999\n",
    "    num2 = random.randint(0, 999) # create an random integer between 0 and 999\n",
    "    \n",
    "    displayProblem(num1,num2) # call display proble to display 2 number, return nothing\n",
    "\n",
    "    userAnswer = getAnswer() # call get Answer and assign the return value to userAnswer\n",
    "\n",
    "    correctAnswer = num1 + num2\n",
    "\n",
    "    showResult(correctAnswer, userAnswer) # show if user get it right or not\n",
    "\n",
    "\n",
    "def displayProblem(num1,num2):\n",
    "    print (f'{num1:5}')\n",
    "    print (f'+{num2:4}')\n",
    "    \n",
    "\n",
    "def getAnswer():\n",
    "    inputAnswer = int(input('Enter sum of numbers: '))\n",
    "    return inputAnswer\n",
    "    \n",
    "\n",
    "def showResult (correctAnswer, answer):\n",
    "    if correctAnswer == answer:\n",
    "        print ('Correct answer – Good Work!')\n",
    "    else:\n",
    "        print (f'Incorrect... The correct answer is: {correctAnswer}')\n",
    "\n",
    "\n",
    "main()"
   ]
  },
  {
   "cell_type": "code",
   "execution_count": 22,
   "id": "5d141e13",
   "metadata": {},
   "outputs": [
    {
     "name": "stdout",
     "output_type": "stream",
     "text": [
      "Time\tFalling Distance\n",
      "-----------------------------\n",
      "1\t4.90\n",
      "2\t19.60\n",
      "3\t44.10\n",
      "4\t78.40\n",
      "5\t122.50\n",
      "6\t176.40\n",
      "7\t240.10\n",
      "8\t313.60\n",
      "9\t396.90\n",
      "10\t490.00\n"
     ]
    }
   ],
   "source": [
    "# add comments to the code\n",
    "\n",
    "def main():\n",
    "    distance = 0.0\n",
    "    # return 2 numbrt\n",
    "    time_list, distance_list = build_fall_chart(distance)\n",
    "    \n",
    "    print ('Time\\tFalling Distance')\n",
    "    print ('-----------------------------')\n",
    "    \n",
    "    for index in range(len(time_list)):\n",
    "        print(f'{time_list[index]}\\t{distance_list[index]:.2f}')\n",
    "\n",
    "        \n",
    "def build_fall_chart(distance):\n",
    "    time_list = []\n",
    "    distance_list = []\n",
    "    \n",
    "    for time in range(1, 11):\n",
    "        distance_list.append(falling_distance(time))\n",
    "        time_list.append(time)\n",
    "    \n",
    "    return time_list, distance_list\n",
    "    \n",
    "    \n",
    "def falling_distance(time):\n",
    "    fallDistance = (9.8 * time * time) / 2\n",
    "    return fallDistance\n",
    "\n",
    "\n",
    "main()"
   ]
  },
  {
   "cell_type": "markdown",
   "id": "fe69f14d",
   "metadata": {},
   "source": [
    "### As the above code executes, think about the following questions:\n",
    "\n",
    "1. Trace the execution of the code by placing print statements throughout.\n",
    "2. Look at the first two programs and discuss how the same program is created but executed differently.\n",
    "3. Look at the thrid program and discuss how the return statement can be used to return multiple things at the same time."
   ]
  },
  {
   "cell_type": "markdown",
   "id": "bffcec5b",
   "metadata": {},
   "source": [
    "## 2.3 Functions that return nothing and functions that return something (Group): \n",
    "\n",
    "Write a program that will do the following:\n",
    "\n",
    "1. Compute the kinetic energy for five different individuals.\n",
    "2. You may input the values for the individuals or hard-code them.\n",
    "3. Store the results for the individuals in some fashion, think list or dictionary.\n",
    "4. Print the results that have been stored.\n",
    "5. Implement each of the above items in different functions, think modularly.\n",
    "\n",
    "KE = 1/2 m v^2  where: KE = kinetic energy(J), m = mass(Kg), v = velocity(m/s)"
   ]
  },
  {
   "cell_type": "code",
   "execution_count": 43,
   "id": "2962e268",
   "metadata": {},
   "outputs": [
    {
     "name": "stdout",
     "output_type": "stream",
     "text": [
      "{'mass': 45, 'velocity': 1.2, 'ke': 32.4}\n",
      "{'mass': 55, 'velocity': 1.5, 'ke': 61.88}\n",
      "{'mass': 59, 'velocity': 1.9, 'ke': 106.49}\n",
      "{'mass': 56, 'velocity': 1.1, 'ke': 33.88}\n",
      "{'mass': 67, 'velocity': 0.7, 'ke': 16.41}\n"
     ]
    }
   ],
   "source": [
    "# add code here\n",
    "persons = {\n",
    "    \"person_1\":{\n",
    "        \"mass\":45,\n",
    "        \"velocity\":1.2,\n",
    "    },\n",
    "    \"person_2\":{\n",
    "        \"mass\":55,\n",
    "        \"velocity\":1.5,\n",
    "    },\n",
    "        \"person_3\":{\n",
    "        \"mass\":59,\n",
    "        \"velocity\":1.9,\n",
    "    },\n",
    "        \"person_4\":{\n",
    "        \"mass\":56,\n",
    "        \"velocity\":1.1,\n",
    "    },\n",
    "        \"person_5\":{\n",
    "        \"mass\":67,\n",
    "        \"velocity\":0.7,\n",
    "    },\n",
    "}\n",
    "\n",
    "def ke(mass, velocity):\n",
    "    return  round(0.5*mass*velocity*velocity,2)\n",
    "\n",
    "\n",
    "def print_dict(dictionary):\n",
    "    for item in dictionary:\n",
    "        print(dictionary[item])\n",
    "        \n",
    "\n",
    "def main():\n",
    "    # add kinetic energy to person\n",
    "    for person in persons:\n",
    "        persons[person][\"ke\"] = ke(persons[person][\"mass\"],persons[person][\"velocity\"])\n",
    "    # call pretty print to print out the data\n",
    "    print_dict(persons)\n",
    "\n",
    "main()"
   ]
  },
  {
   "cell_type": "markdown",
   "id": "98c90eb5",
   "metadata": {},
   "source": [
    "## 2.4  Local and Global variables (Follow):  \n",
    "\n",
    "**Learning Objectives:**\n",
    "\n",
    "    1. Understand variable scope.\n",
    "    2. Understand Gloabl variables and how to use them appropriately.\n",
    "    3. Understand local variables and their scope."
   ]
  },
  {
   "cell_type": "code",
   "execution_count": 45,
   "id": "ba0d4df5",
   "metadata": {},
   "outputs": [
    {
     "name": "stdout",
     "output_type": "stream",
     "text": [
      "Enter the mass of the object in kilograms: 123\n",
      "Enter object velocity in meters per second: .6\n",
      "Kinetic Energy is: 22.14 joules\n"
     ]
    }
   ],
   "source": [
    "# Add comments to the code\n",
    "\n",
    "def main():\n",
    "    mass = 0.0\n",
    "    velocity = 0.0\n",
    "    KE = 0.0\n",
    "    # get user input for mass\n",
    "    mass = float(input('Enter the mass of the object in kilograms: '))\n",
    "    # get user input for velocity\n",
    "    velocity = float(input('Enter object velocity in meters per second: '))\n",
    "    # calculate the kinetic energy\n",
    "    KE = kinetic_energy(mass, velocity)\n",
    "    # print out the result\n",
    "    print (f'Kinetic Energy i.: {KE:.2f} joules')\n",
    "\n",
    "\n",
    "def kinetic_energy(mass, velocity):\n",
    "    KE = 0.0\n",
    "    KE = (mass * velocity * velocity) / 2\n",
    "    return KE\n",
    "\n",
    "\n",
    "main()\n"
   ]
  },
  {
   "cell_type": "code",
   "execution_count": 61,
   "id": "7ec4de9e",
   "metadata": {},
   "outputs": [
    {
     "name": "stdout",
     "output_type": "stream",
     "text": [
      "Heads\n",
      "Tails\n",
      "Heads\n",
      "Tails\n",
      "Tails\n",
      "Tails\n",
      "Tails\n",
      "Heads\n",
      "Heads\n",
      "Tails\n"
     ]
    }
   ],
   "source": [
    "# add comments to the code\n",
    "\n",
    "import random\n",
    "\n",
    "# global variable\n",
    "HEADS = 1\n",
    "TAILS = 2\n",
    "TOSSES = 10\n",
    "\n",
    "def main():\n",
    "    for toss in range(TOSSES):\n",
    "        if random.randint(HEADS, TAILS) == HEADS:\n",
    "            print('Heads')\n",
    "        else:\n",
    "            print('Tails')\n",
    "            \n",
    "\n",
    "main()"
   ]
  },
  {
   "cell_type": "markdown",
   "id": "53d3bca3",
   "metadata": {},
   "source": [
    "### As the above code executes, think about the following questions:\n",
    "\n",
    "1. Look at the top program and label the local variables: <b>toss is a local variable</b>\n",
    "2. Determine the scope of these local variables: <b>inside main function</b>\n",
    "3. Place a print statement for one of the local variables after the main() and explain the results: <b>Name error due to no 'toss' is define</b>\n",
    "4. Look at the second program and determine the global variables: <b>TOSSES, HEADS, TAILS</b>\n",
    "5. Place a print statement for one of the global variables after the main() and explain the results: <b>NOTHING HAPPEN</b>"
   ]
  },
  {
   "cell_type": "markdown",
   "id": "a029d75d",
   "metadata": {},
   "source": [
    "## 2.4  Local and Global variables (Group):  \n",
    "\n",
    "Write a program that will do the following:\n",
    "\n",
    "1. Generate a random number.\n",
    "2. The user will then input a number.\n",
    "3. The program will then tell the user if they are too high or too low.\n",
    "4. The user is prompted again, and the user enters a new number.\n",
    "5. This process repeats until the user guesses the correct number.\n",
    "6. The user can exit by guessing 0.\n",
    "7. Think modularly and use global and local variables.\n"
   ]
  },
  {
   "cell_type": "code",
   "execution_count": 67,
   "id": "8c5ac6af",
   "metadata": {},
   "outputs": [
    {
     "name": "stdout",
     "output_type": "stream",
     "text": [
      "Guess-number is between 0 and 100, Let play!!!\n",
      "Please enter an integer number: 12\n",
      "input number is smaller than guessed number\n",
      "Please enter an integer number: 50\n",
      "input number is smaller than guessed number\n",
      "Please enter an integer number: 75\n",
      "input number is smaller than guessed number\n",
      "Please enter an integer number: 80\n",
      "input number is bigger than guessed number\n",
      "Please enter an integer number: 77\n",
      "You got it mysterious number is 77\n"
     ]
    }
   ],
   "source": [
    "# add code here\n",
    "from random import randint\n",
    "\"\"\"\n",
    "\n",
    "\"\"\"\n",
    "def get_user_input():\n",
    "    user_input = input('Please enter an integer number: ')\n",
    "    \n",
    "    while user_input.isdigit() == False:\n",
    "        user_input = input('Input must be an integer: ')\n",
    "        \n",
    "    return int(user_input)\n",
    "\n",
    "\n",
    "def main():\n",
    "    random_number = randint(0,101)\n",
    "    print(\"Guess-number is between 0 and 100, Let play!!!\")\n",
    "    user_input = get_user_input()\n",
    "    while user_input != random_number and user_input != 0:\n",
    "        print(\"input number is smaller than guessed number\" if user_input < random_number else \"input number is bigger than guessed number\")\n",
    "        user_input = get_user_input()\n",
    "    \n",
    "    print (f\"You got it mysterious number is {random_number}\" if user_input == random_number else \"Please come back later to play\")\n",
    "    \n",
    "\n",
    "main()\n"
   ]
  }
 ],
 "metadata": {
  "kernelspec": {
   "display_name": "Python 3",
   "language": "python",
   "name": "python3"
  },
  "language_info": {
   "codemirror_mode": {
    "name": "ipython",
    "version": 3
   },
   "file_extension": ".py",
   "mimetype": "text/x-python",
   "name": "python",
   "nbconvert_exporter": "python",
   "pygments_lexer": "ipython3",
   "version": "3.8.8"
  }
 },
 "nbformat": 4,
 "nbformat_minor": 5
}
