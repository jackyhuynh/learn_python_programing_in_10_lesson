{
 "cells": [
  {
   "cell_type": "markdown",
   "metadata": {
    "id": "Eq8c0_j8x9kS"
   },
   "source": [
    "# Workshop 6 Student\n",
    "\n",
    "This notebook will cover the following topics:\n",
    "\n",
    "1. Objects in recursion\n",
    "2. Graphs and Trees using network X\n",
    "3. Binary trees and binary search\n",
    "4. Breadth First Search\n",
    "5. Depth First Search\n"
   ]
  },
  {
   "cell_type": "markdown",
   "metadata": {
    "id": "ZjVMGdk9UXWD"
   },
   "source": [
    "## 6.1  Objects in Recursion (Follow):  \n",
    "\n",
    "**Learning Objectives:**\n",
    "\n",
    "    1. Understand how objects are passed in recursion.\n",
    "    2. understand how objects are referenced in recursion."
   ]
  },
  {
   "cell_type": "code",
   "execution_count": null,
   "metadata": {
    "executionInfo": {
     "elapsed": 8,
     "status": "ok",
     "timestamp": 1644424822076,
     "user": {
      "displayName": "Travis Martin",
      "photoUrl": "https://lh3.googleusercontent.com/a/default-user=s64",
      "userId": "17005528951968776844"
     },
     "user_tz": 360
    },
    "id": "22SU0DfmUTkm"
   },
   "outputs": [],
   "source": [
    "class counter_item:\n",
    "    def __init__(self):\n",
    "        self.__counter = 0\n",
    "\n",
    "    def get_counter(self):\n",
    "        return self.__counter\n",
    "\n",
    "    def inc_counter(self):\n",
    "        self.__counter += 1\n",
    "\n",
    "    def dec_counter(self):\n",
    "        self.__counter -= 1\n",
    "\n",
    "\n",
    "def recursive_funct(object, depth):\n",
    "    object.inc_counter()\n",
    "    depth -= 1\n",
    "  \n",
    "    if depth == 0:\n",
    "        return\n",
    "    else:\n",
    "        print(object.get_counter())\n",
    "        recursive_funct(object, depth)\n",
    "    \n",
    "    print(object.get_counter())\n"
   ]
  },
  {
   "cell_type": "code",
   "execution_count": null,
   "metadata": {
    "colab": {
     "base_uri": "https://localhost:8080/"
    },
    "executionInfo": {
     "elapsed": 5,
     "status": "ok",
     "timestamp": 1644424825071,
     "user": {
      "displayName": "Travis Martin",
      "photoUrl": "https://lh3.googleusercontent.com/a/default-user=s64",
      "userId": "17005528951968776844"
     },
     "user_tz": 360
    },
    "id": "fdezvbPq2HLY",
    "outputId": "9922eba8-fc79-44ac-ae47-e68fc8edf6a1"
   },
   "outputs": [],
   "source": [
    "def main():\n",
    "    the_counter = counter_item()\n",
    "    depth = 5\n",
    "\n",
    "    recursive_funct(the_counter, depth)\n",
    "\n",
    "main()"
   ]
  },
  {
   "cell_type": "markdown",
   "metadata": {
    "id": "WtyJdRvo2IqH"
   },
   "source": [
    "### As the above code executes, think about the following questions:\n",
    "\n",
    "1. What is the value of self.__counter in each iteration?\n",
    "2. Play around with the inc and dec functions to make sure you understand how everything is working."
   ]
  },
  {
   "cell_type": "markdown",
   "metadata": {
    "id": "UvJOlTis3hQN"
   },
   "source": [
    "## 6.1  Objects in Recursion (Group):  \n",
    "\n",
    "**Write a program that will do the following:**\n",
    "\n",
    "    1. Implement factorial with objects and recursion.\n",
    "    2. Create at least one class and use that to store the calculated value for factorial.\n",
    "    3. You may make the final calculation private or public."
   ]
  },
  {
   "cell_type": "code",
   "execution_count": null,
   "metadata": {
    "executionInfo": {
     "elapsed": 206,
     "status": "ok",
     "timestamp": 1644439853508,
     "user": {
      "displayName": "Travis Martin",
      "photoUrl": "https://lh3.googleusercontent.com/a/default-user=s64",
      "userId": "17005528951968776844"
     },
     "user_tz": 360
    },
    "id": "WZku_jp033g8"
   },
   "outputs": [],
   "source": [
    "\n"
   ]
  },
  {
   "cell_type": "code",
   "execution_count": null,
   "metadata": {
    "colab": {
     "base_uri": "https://localhost:8080/"
    },
    "executionInfo": {
     "elapsed": 208,
     "status": "ok",
     "timestamp": 1644439945793,
     "user": {
      "displayName": "Travis Martin",
      "photoUrl": "https://lh3.googleusercontent.com/a/default-user=s64",
      "userId": "17005528951968776844"
     },
     "user_tz": 360
    },
    "id": "G6HgkWaX33pI",
    "outputId": "ced67788-41f2-4cbc-d371-54894ec97fa9"
   },
   "outputs": [],
   "source": [
    "\n"
   ]
  },
  {
   "cell_type": "markdown",
   "metadata": {
    "id": "UC2lwbo1xobK"
   },
   "source": [
    "## 6.2 Graphs and Trees using network X (Follow):  \n",
    "\n",
    "**Learning Objectives:**\n",
    "\n",
    "    1. Understand the structure of graphs and trees.\n",
    "    2. Understand how to create graphs and trees.\n",
    "    3. Understand the network X library in python.\n"
   ]
  },
  {
   "cell_type": "code",
   "execution_count": null,
   "metadata": {
    "colab": {
     "base_uri": "https://localhost:8080/",
     "height": 865
    },
    "executionInfo": {
     "elapsed": 857,
     "status": "ok",
     "timestamp": 1644363545529,
     "user": {
      "displayName": "Travis Martin",
      "photoUrl": "https://lh3.googleusercontent.com/a/default-user=s64",
      "userId": "17005528951968776844"
     },
     "user_tz": 360
    },
    "id": "qPxFHzCB2mkg",
    "outputId": "80c162d9-94e5-4dcc-d007-cb4e8cda334c"
   },
   "outputs": [],
   "source": [
    "# add comments to the code\n",
    "# https://networkx.org/documentation/stable/reference/introduction.html#\n",
    "\n",
    "\n",
    "import networkx as nx  # to add this library type: \"conda install networkx\"\n",
    "import matplotlib.pyplot as plt # to add this library type: \"conda install matplotlib\"\n",
    "\n",
    "G = nx.Graph()\n",
    "G.add_node(1)\n",
    "G.add_nodes_from([2, 3])\n",
    "G.add_nodes_from([(4, {\"color\": \"red\"}), (5, {\"color\": \"green\"}),])\n",
    "\n",
    "G.add_edge(1, 2)\n",
    "G.add_edge(1, 3)\n",
    "G.add_edge(3, 4)\n",
    "G.add_edge(3, 5)\n",
    "\n",
    "nx.draw(G, node_color = 'r', edge_color = 'g', with_labels = True)\n",
    "plt.show()\n",
    "\n",
    "print(\"The number of nodes in the first graph = \", G.number_of_nodes())\n",
    "print(\"The number of edges in the first graph = \", G.number_of_edges())\n",
    "\n",
    "\n",
    "Graph = nx.Graph()\n",
    "edge_list = [(1, 2), (2, 3), (1, 4), (4, 2)]\n",
    "Graph.add_edges_from(edge_list)\n",
    "\n",
    "subax1 = plt.subplot(121)\n",
    "nx.draw(Graph)   \n",
    "plt.show()\n",
    "\n",
    "\n",
    "Other_Graph = nx.Graph()\n",
    "Other_Graph.add_edge(\"a\", \"b\", weight=0.6)\n",
    "Other_Graph.add_edge(\"a\", \"c\", weight=0.2)\n",
    "Other_Graph.add_edge(\"c\", \"d\", weight=0.1)\n",
    "Other_Graph.add_edge(\"c\", \"e\", weight=0.7)\n",
    "Other_Graph.add_edge(\"c\", \"f\", weight=0.9)\n",
    "Other_Graph.add_edge(\"a\", \"d\", weight=0.3)\n",
    "\n",
    "elarge = [(u, v) for (u, v, d) in Other_Graph.edges(data=True) if d[\"weight\"] > 0.5]\n",
    "esmall = [(u, v) for (u, v, d) in Other_Graph.edges(data=True) if d[\"weight\"] <= 0.5]\n",
    "\n",
    "pos = nx.spring_layout(Other_Graph, seed=7)\n",
    "nx.draw_networkx_nodes(Other_Graph, pos, node_size=700)\n",
    "nx.draw_networkx_edges(Other_Graph, pos, edgelist=elarge, width=6, label = 'weight')\n",
    "nx.draw_networkx_edges(Other_Graph, pos, edgelist=esmall, width=6, alpha=0.5, edge_color=\"b\", style=\"dashed\", label = 'weights')\n",
    "\n",
    "nx.draw_networkx_labels(Other_Graph, pos, font_size=20, font_family=\"sans-serif\")\n",
    "\n",
    "\n",
    "ax = plt.gca()\n",
    "ax.margins(0.08)\n",
    "plt.axis(\"off\")\n",
    "plt.tight_layout()\n",
    "plt.show()\n",
    "\n"
   ]
  },
  {
   "cell_type": "markdown",
   "metadata": {
    "id": "9khcD7a_2Yly"
   },
   "source": [
    "### As the above code executes, think about the following questions:\n",
    "\n",
    "1. Try playing around with different options in the draw functions and see how things work.\n",
    "2. What does the plt.show() function do?\n",
    "3. What does the seed = 7 parameter do?\n",
    "4. What do the options in the last few lines do?  Are they necessary?"
   ]
  },
  {
   "cell_type": "markdown",
   "metadata": {
    "id": "-ZnTI8ig35CH"
   },
   "source": [
    "## 6.2 Graphs and Trees using network X (Group):  \n",
    "\n",
    "**Write a program that will do the following:**\n",
    "\n",
    "    1. Use the documentation to explore different ways to make graphs using network x.\n",
    "    2. Try creating different graphs including directional graphs and multigraphs.\n",
    "    3. Try changing colors and sizes for nodes.\n",
    "    4. Try experimenting with the layout options.\n",
    "    5. Be prepared to present some of the things you have learned exploring network x.\n"
   ]
  },
  {
   "cell_type": "code",
   "execution_count": null,
   "metadata": {
    "id": "PwU43sg34C0X"
   },
   "outputs": [],
   "source": []
  },
  {
   "cell_type": "code",
   "execution_count": null,
   "metadata": {
    "id": "E1P5WUhz4C8x"
   },
   "outputs": [],
   "source": []
  },
  {
   "cell_type": "markdown",
   "metadata": {
    "id": "dB8rY4UGxorv"
   },
   "source": [
    "## 6.3 Binary trees and binary search (Follow):  \n",
    "\n",
    "**Learning Objectives:**\n",
    "\n",
    "    1. Understand binary trees.\n",
    "    2. Understand binary search.\n",
    "    3. Understand the necessity for binary trees."
   ]
  },
  {
   "cell_type": "code",
   "execution_count": null,
   "metadata": {
    "colab": {
     "base_uri": "https://localhost:8080/",
     "height": 923
    },
    "executionInfo": {
     "elapsed": 4863,
     "status": "ok",
     "timestamp": 1644362479476,
     "user": {
      "displayName": "Travis Martin",
      "photoUrl": "https://lh3.googleusercontent.com/a/default-user=s64",
      "userId": "17005528951968776844"
     },
     "user_tz": 360
    },
    "id": "wsaZQ1In2oNH",
    "outputId": "e54698d8-307b-4b3e-bc19-4a7676d27f7e"
   },
   "outputs": [],
   "source": [
    "# add comment to the code\n",
    "\n",
    "# you will need to run the following command in the conda powershell before running\n",
    "# conda install --channel conda-forge pygraphviz -y\n",
    "\n",
    "import matplotlib.pyplot as plt  #if you are getting errors, remember to install missing packages\n",
    "import networkx as nx\n",
    "import pydot\n",
    "from networkx.drawing.nx_pydot import graphviz_layout\n",
    "\n",
    "\n",
    "T = nx.balanced_tree(2, 5)\n",
    "\n",
    "# https://networkx.org/documentation/stable/reference/generated/networkx.drawing.nx_agraph.graphviz_layout.html\n",
    "pos = graphviz_layout(T, prog=\"twopi\")\n",
    "nx.draw(T, pos)\n",
    "plt.show()\n",
    "\n",
    "pos = graphviz_layout(T, prog=\"dot\")\n",
    "nx.draw(T, pos)\n",
    "plt.show()\n",
    "\n",
    "pos = graphviz_layout(T, prog=\"circo\")\n",
    "nx.draw(T, pos)\n",
    "plt.show()"
   ]
  },
  {
   "cell_type": "code",
   "execution_count": null,
   "metadata": {
    "colab": {
     "base_uri": "https://localhost:8080/"
    },
    "executionInfo": {
     "elapsed": 131,
     "status": "ok",
     "timestamp": 1644365733421,
     "user": {
      "displayName": "Travis Martin",
      "photoUrl": "https://lh3.googleusercontent.com/a/default-user=s64",
      "userId": "17005528951968776844"
     },
     "user_tz": 360
    },
    "id": "hUF9wMn-2oB3",
    "outputId": "27925a40-da37-44cd-f249-dd10f26ac8bb"
   },
   "outputs": [],
   "source": [
    "# add comments to the code\n",
    "\n",
    "def binarySearch(arr, l, r, x):\n",
    "  \n",
    "    if r >= l:\n",
    "  \n",
    "        mid = l + (r - l) // 2\n",
    "        if arr[mid] == x:\n",
    "            return mid\n",
    "  \n",
    "        elif arr[mid] > x:\n",
    "            return binarySearch(arr, l, mid-1, x)\n",
    "  \n",
    "        else:\n",
    "            return binarySearch(arr, mid + 1, r, x)\n",
    "  \n",
    "    else:\n",
    "        return -1\n",
    "  \n",
    "  \n",
    "\n",
    "arr = [2, 3, 4, 10, 40]\n",
    "x = 10\n",
    "  \n",
    "result = binarySearch(arr, 0, len(arr)-1, x)\n",
    "  \n",
    "if result != -1:\n",
    "    print(\"Element is present at index % d\" % result)\n",
    "else:\n",
    "    print(\"Element is not present in array\")"
   ]
  },
  {
   "cell_type": "markdown",
   "metadata": {
    "id": "vSGMIrUA2aLn"
   },
   "source": [
    "### As the above code executes, think about the following questions:\n",
    "\n",
    "1. Play around with the binary trees generated and try to understand the parameters passed into the functions.\n",
    "2. Look at binary search.  What is the big assumption the algorithm makes before starting search?\n",
    "3. Why is binary search more efficient than linear search?"
   ]
  },
  {
   "cell_type": "markdown",
   "metadata": {
    "id": "hc4i01wE4EtH"
   },
   "source": [
    "## 6.3 Binary trees and binary search (Group):  \n",
    "\n",
    "**Write a program that will do the following:**\n",
    "\n",
    "    1. Try to come up with an application where you would use a binary tree or binary search.\n",
    "    2. The application can be from work or life.\n",
    "    3. You may code the example if you feel it is necessary or you may just write some notes below.\n",
    "    4. You may be asked to share your project."
   ]
  },
  {
   "cell_type": "code",
   "execution_count": null,
   "metadata": {
    "id": "gXx9Zjy24Oli"
   },
   "outputs": [],
   "source": []
  },
  {
   "cell_type": "code",
   "execution_count": null,
   "metadata": {
    "id": "CND3RTwa4Ot-"
   },
   "outputs": [],
   "source": []
  },
  {
   "cell_type": "markdown",
   "metadata": {
    "id": "wG7G8XN-UXZ-"
   },
   "source": [
    "## 6.4 Breadth first search (Follow):  \n",
    "\n",
    "**Learning Objectives:**\n",
    "\n",
    "    1. Understand how breadth first search works\n",
    "    2. Understand why breadth first search is implemented.\n",
    "    3. Understand the necessity for breadth first search.\n"
   ]
  },
  {
   "cell_type": "code",
   "execution_count": null,
   "metadata": {
    "id": "Kb8Ju26U2yzX"
   },
   "outputs": [],
   "source": [
    "# add comments to the code\n",
    "\n",
    "from collections import defaultdict\n",
    " \n",
    "class Graph:\n",
    " \n",
    "    def __init__(self):\n",
    "        self.graph = defaultdict(list)\n",
    " \n",
    "    def addEdge(self,u,v):\n",
    "        self.graph[u].append(v)\n",
    " \n",
    "    def BFS(self, s):\n",
    "        visited_queue = []\n",
    "        BFS_queue = []\n",
    " \n",
    "        BFS_queue.append(s)\n",
    "        visited_queue.append(s)\n",
    "\n",
    "        while BFS_queue:\n",
    "            s = BFS_queue.pop(0)\n",
    "            print (s, end = \" \")\n",
    " \n",
    "            for i in self.graph[s]:\n",
    "                if i not in visited_queue:\n",
    "                    BFS_queue.append(i)\n",
    "                    visited_queue.append(i)\n",
    " \n",
    " "
   ]
  },
  {
   "cell_type": "code",
   "execution_count": null,
   "metadata": {
    "colab": {
     "base_uri": "https://localhost:8080/"
    },
    "executionInfo": {
     "elapsed": 123,
     "status": "ok",
     "timestamp": 1644340187450,
     "user": {
      "displayName": "Travis Martin",
      "photoUrl": "https://lh3.googleusercontent.com/a/default-user=s64",
      "userId": "17005528951968776844"
     },
     "user_tz": 360
    },
    "id": "Lp5PYZmm2y96",
    "outputId": "c32088dc-e7ab-4b88-d678-631fc0e33332"
   },
   "outputs": [],
   "source": [
    "g = Graph()\n",
    "g.addEdge(0, 1)\n",
    "g.addEdge(0, 2)\n",
    "g.addEdge(1, 2)\n",
    "g.addEdge(2, 0)\n",
    "g.addEdge(2, 3)\n",
    "g.addEdge(3, 4)\n",
    "\n",
    "start_node = 2\n",
    "\n",
    "print (f\"Breadth First Tree Traversal (starting from node {start_node})\")\n",
    "g.BFS(start_node)\n"
   ]
  },
  {
   "cell_type": "markdown",
   "metadata": {
    "id": "KQu-RUPY2bYw"
   },
   "source": [
    "### As the above code executes, think about the following questions:\n",
    "\n",
    "1. Try starting the search from a couple of different start nodes and trace the traversal.\n",
    "2. What is the function of the visited queue?\n",
    "3. What is the function of the BFS_queue?\n",
    "4. Why do we use a queue for breadth first search?"
   ]
  },
  {
   "cell_type": "markdown",
   "metadata": {
    "id": "FcUuaakx4tol"
   },
   "source": [
    "## 6.4 Breadth first search (Group):  \n",
    "\n",
    "**Write a program that will do the following:**\n",
    "\n",
    "    1. Implement breadth first search.\n",
    "    2. Implement a class Node.\n",
    "    3. Node class should have attributes value, and parent.\n",
    "    4. Graph class should **not** inherit the node class.\n",
    "    5. Create a graph object and use the add edge function to create a graph of nodes.  \n",
    "    6. Create at least 5 or 6 nodes.\n",
    "    7. Perform BFS and print the results of BFS.\n",
    "    8. As an added challenge, create a function to keep track of the parents of each node.\n",
    "    9. If you create the function, try printing these parents.\n"
   ]
  },
  {
   "cell_type": "code",
   "execution_count": null,
   "metadata": {
    "id": "XnyXrE2P6Q_V"
   },
   "outputs": [],
   "source": [
    "\n",
    " "
   ]
  },
  {
   "cell_type": "code",
   "execution_count": null,
   "metadata": {
    "colab": {
     "base_uri": "https://localhost:8080/"
    },
    "executionInfo": {
     "elapsed": 102,
     "status": "ok",
     "timestamp": 1644341195504,
     "user": {
      "displayName": "Travis Martin",
      "photoUrl": "https://lh3.googleusercontent.com/a/default-user=s64",
      "userId": "17005528951968776844"
     },
     "user_tz": 360
    },
    "id": "uLTrPp6S6RIu",
    "outputId": "de01e5a7-9c3e-4d57-8327-de8c940bbea8"
   },
   "outputs": [],
   "source": [
    "\n"
   ]
  },
  {
   "cell_type": "markdown",
   "metadata": {
    "id": "Khor4BJ7UXdS"
   },
   "source": [
    "## 6.5 Depth first search (Follow):  \n",
    "\n",
    "**Learning Objectives:**\n",
    "\n",
    "    1. Understand how depth first search works\n",
    "    2. Understand why depth first search is implemented.\n",
    "    3. Understand the necessity for depth first search."
   ]
  },
  {
   "cell_type": "code",
   "execution_count": null,
   "metadata": {
    "id": "QB8E5VtB20Q5"
   },
   "outputs": [],
   "source": [
    "# Add comments to the code\n",
    "\n",
    "from collections import defaultdict\n",
    " \n",
    "class Graph:\n",
    "    def __init__(self):\n",
    "        self.graph = defaultdict(list)\n",
    " \n",
    "    def addEdge(self,u,v):\n",
    "        self.graph[u].append(v)\n",
    "\n",
    "\n",
    "    def DFS(self, s):\n",
    "        visited_list = []\n",
    "        DFS_stack = []\n",
    " \n",
    "        DFS_stack.append(s)\n",
    "        visited_list.append(s)\n",
    "\n",
    "        while DFS_stack:\n",
    "            s = DFS_stack.pop(-1)\n",
    "            print (s, end = \" \")\n",
    " \n",
    "            for i in self.graph[s]:\n",
    "                if i not in visited_list:\n",
    "                    DFS_stack.append(i)\n",
    "                    visited_list.append(i)\n",
    " \n"
   ]
  },
  {
   "cell_type": "code",
   "execution_count": null,
   "metadata": {
    "colab": {
     "base_uri": "https://localhost:8080/"
    },
    "executionInfo": {
     "elapsed": 162,
     "status": "ok",
     "timestamp": 1644341887447,
     "user": {
      "displayName": "Travis Martin",
      "photoUrl": "https://lh3.googleusercontent.com/a/default-user=s64",
      "userId": "17005528951968776844"
     },
     "user_tz": 360
    },
    "id": "51l5FnET20iH",
    "outputId": "e3a530ad-a1e8-40dd-a73f-0e7e66fe9f67"
   },
   "outputs": [],
   "source": [
    "\n",
    "g = Graph()\n",
    "g.addEdge(0, 1)\n",
    "g.addEdge(0, 2)\n",
    "g.addEdge(1, 2)\n",
    "g.addEdge(2, 0)\n",
    "g.addEdge(2, 3)\n",
    "g.addEdge(3, 4)\n",
    " \n",
    "start_node = 0\n",
    "\n",
    "print(f\"Following is DFS from (starting from node {start_node})\")\n",
    "g.DFS(start_node)\n",
    " "
   ]
  },
  {
   "cell_type": "markdown",
   "metadata": {
    "id": "uuYg2P6uUXgM"
   },
   "source": [
    "### As the above code executes, think about the following questions:\n",
    "\n",
    "1. Try starting the search from a couple of different start nodes and trace the traversal.\n",
    "2. What is the function of the visited queue?\n",
    "3. What is the function of the DFS_queue?\n",
    "4. Why do we use a stack for depth first search?"
   ]
  },
  {
   "cell_type": "markdown",
   "metadata": {
    "id": "woRtvbBkUXiw"
   },
   "source": [
    "## 6.5 Depth first search (Group):  \n",
    "\n",
    "**Write a program that will do the following:**\n",
    "\n",
    "    1. Implement depth first search.\n",
    "    2. Implement a class Node.\n",
    "    3. Node class should have attributes value, and parent.\n",
    "    4. Graph class should **not** inherit the node class.\n",
    "    5. Create a graph object and use the add edge function to create a graph of nodes.  \n",
    "    6. Create at least 5 or 6 nodes.\n",
    "    7. Perform DFS and print the results of DFS.\n",
    "    8. As an added challenge, create a function to keep track of the parents of each node.\n",
    "    9. If you create the function, try printing these parents."
   ]
  },
  {
   "cell_type": "code",
   "execution_count": null,
   "metadata": {
    "id": "GVkV_ISY6b88"
   },
   "outputs": [],
   "source": [
    "\n"
   ]
  },
  {
   "cell_type": "code",
   "execution_count": null,
   "metadata": {
    "colab": {
     "base_uri": "https://localhost:8080/"
    },
    "executionInfo": {
     "elapsed": 148,
     "status": "ok",
     "timestamp": 1644342244904,
     "user": {
      "displayName": "Travis Martin",
      "photoUrl": "https://lh3.googleusercontent.com/a/default-user=s64",
      "userId": "17005528951968776844"
     },
     "user_tz": 360
    },
    "id": "lcyWdH-Q6cES",
    "outputId": "9fae01f8-79c1-414a-865a-89823c91f566"
   },
   "outputs": [],
   "source": [
    "\n"
   ]
  }
 ],
 "metadata": {
  "colab": {
   "authorship_tag": "ABX9TyPIC/iWg/NxZ3WEugK28nzp",
   "collapsed_sections": [],
   "name": "Week6 Solutions.ipynb",
   "provenance": []
  },
  "kernelspec": {
   "display_name": "Python 3 (ipykernel)",
   "language": "python",
   "name": "python3"
  },
  "language_info": {
   "codemirror_mode": {
    "name": "ipython",
    "version": 3
   },
   "file_extension": ".py",
   "mimetype": "text/x-python",
   "name": "python",
   "nbconvert_exporter": "python",
   "pygments_lexer": "ipython3",
   "version": "3.8.12"
  }
 },
 "nbformat": 4,
 "nbformat_minor": 1
}
