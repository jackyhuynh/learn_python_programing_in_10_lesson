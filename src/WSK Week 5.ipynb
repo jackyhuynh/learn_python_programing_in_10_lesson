{
 "cells": [
  {
   "cell_type": "markdown",
   "id": "mdVuQT1mpQFy",
   "metadata": {
    "id": "mdVuQT1mpQFy"
   },
   "source": [
    "# Workshop 5 [Student]\n",
    "\n",
    "This notebook will cover the following topics:\n",
    "\n",
    "1. polymorphism\n",
    "2. Object composition\n",
    "3. list of objects\n",
    "4. stacks and queues"
   ]
  },
  {
   "cell_type": "markdown",
   "id": "njm6M9m0q_u7",
   "metadata": {
    "id": "njm6M9m0q_u7"
   },
   "source": [
    "## 5.1 Polymorphism (Follow):  \n",
    "\n",
    "**Learning Objectives:**\n",
    "\n",
    "    1. Understand how functions can have the same name but do different things\n",
    "    2. Understand how functions are called in inherited classes\n",
    "    3. Understand function overloading"
   ]
  },
  {
   "cell_type": "code",
   "execution_count": 7,
   "id": "376b166d",
   "metadata": {
    "id": "376b166d"
   },
   "outputs": [],
   "source": [
    "#add comments to code\n",
    "\n",
    "class Mammal:\n",
    "    def __init__(self, species):\n",
    "        self.__species = species\n",
    "    \n",
    "    def show_species(self):\n",
    "        print('I am a', self.__species)\n",
    "    \n",
    "    def make_sound(self):\n",
    "        print('Grrrrr')\n",
    "\n",
    "\n",
    "class Dog(Mammal):\n",
    "    def __init__(self):\n",
    "        super().__init__('Dog')\n",
    "    \n",
    "    def make_sound(self):\n",
    "        print('Woof! Woof!')\n",
    "        # super().make_sound()\n",
    "\n",
    "\n",
    "class Cat(Mammal):\n",
    "    def __init__(self):\n",
    "        Mammal.__init__(self, 'Cat')\n",
    "\n"
   ]
  },
  {
   "cell_type": "code",
   "execution_count": 8,
   "id": "bn-0BalZpowQ",
   "metadata": {
    "colab": {
     "base_uri": "https://localhost:8080/"
    },
    "id": "bn-0BalZpowQ",
    "outputId": "95a46b74-00cc-4dd8-82da-9c925f16d722"
   },
   "outputs": [
    {
     "name": "stdout",
     "output_type": "stream",
     "text": [
      "Here are some animals and\n",
      "the sounds they make.\n",
      "--------------------------\n",
      "I am a regular animal\n",
      "Grrrrr\n",
      "\n",
      "I am a Dog\n",
      "Woof! Woof!\n",
      "Grrrrr\n",
      "\n",
      "I am a Cat\n",
      "Grrrrr\n"
     ]
    }
   ],
   "source": [
    "def main():\n",
    "\n",
    "    mammal = Mammal('regular animal')\n",
    "    dog = Dog()\n",
    "    cat = Cat()\n",
    "\n",
    "    print('Here are some animals and')\n",
    "    print('the sounds they make.')\n",
    "    print('--------------------------')\n",
    "    show_mammal_info(mammal)\n",
    "    print()\n",
    "    show_mammal_info(dog)\n",
    "    print()\n",
    "    show_mammal_info(cat)\n",
    "\n",
    "\n",
    "def show_mammal_info(creature):\n",
    "    creature.show_species()\n",
    "    creature.make_sound()\n",
    "\n",
    "if __name__ == \"__main__\":\n",
    "     main()\n"
   ]
  },
  {
   "cell_type": "markdown",
   "id": "rjZZfD35sEuc",
   "metadata": {
    "id": "rjZZfD35sEuc"
   },
   "source": [
    "### While the above program executes, answer the following questions:\n",
    "\n",
    "1. Which make sound function gets executed when?\n",
    "2. What does the mammal.__init() function do in the dog and cat class?\n",
    "3. Write a function named show_species in the cat or dog class and have it do something different than the parent function.  \n",
    "\n"
   ]
  },
  {
   "cell_type": "markdown",
   "id": "Cl71XkItrBEj",
   "metadata": {
    "id": "Cl71XkItrBEj"
   },
   "source": [
    "## 5.1 Polymorphism (Group):  \n",
    "\n",
    "**Write a program that will do the following:**\n",
    "\n",
    "    1. Create a class person\n",
    "    2. Create a class customer\n",
    "    3. Person class has attributes name, address, and phone number\n",
    "    4. Customer class should have attributes customer number, purchase amount\n",
    "    5. All classes should have get and set methods for all attributes.\n",
    "    6. Use the super init method inside the customer class\n",
    "    7. Create a get info function for both classes that return everything in the object.\n",
    "    8. All attributes should be private."
   ]
  },
  {
   "cell_type": "code",
   "execution_count": 34,
   "id": "3dec9c0e",
   "metadata": {
    "id": "3dec9c0e"
   },
   "outputs": [],
   "source": [
    "class Person:\n",
    "    def __init__(self, name, address, phone_number):\n",
    "        self.__name = name\n",
    "        self.__address = address\n",
    "        self.__phone_number = phone_number\n",
    "    \n",
    "    def set_name(self, name):\n",
    "        self.__name = name\n",
    "    \n",
    "    def set_address(self, address):\n",
    "        self.__address = address\n",
    "    \n",
    "    def set_phone_number(self, phone_number):\n",
    "        self.__phone_number = phone_number\n",
    "        \n",
    "    def get_name(self):\n",
    "        return self.__name\n",
    "\n",
    "    def get_address(self):\n",
    "        return self.__address\n",
    "\n",
    "    def get_phone_number(self):\n",
    "        return self.__phone_number\n",
    "    \n",
    "    def get_everything(self):\n",
    "        return [self.__name, self.__address, self.__phone_number]"
   ]
  },
  {
   "cell_type": "code",
   "execution_count": 35,
   "id": "7gmulm3MprjY",
   "metadata": {
    "colab": {
     "base_uri": "https://localhost:8080/"
    },
    "id": "7gmulm3MprjY",
    "outputId": "33be9df5-176f-4f1e-86b2-5f302c97d7fa"
   },
   "outputs": [],
   "source": [
    "class Customer(Person):\n",
    "    def __init__(self, name, address, phone_number, customer_number, purchase_amount):\n",
    "        super().__init__(name, address, phone_number)\n",
    "        self.__customer_number = customer_number\n",
    "        self.__purchase_amount = purchase_amount\n",
    "        \n",
    "    def get_customer_number(self):\n",
    "        return self.__customer_number\n",
    "\n",
    "    def set_customer_number(self, customer_number):\n",
    "        self.__customer_number = customer_number\n",
    "        \n",
    "    def get_purchase_amount(self):\n",
    "        return self.__purchase_amount\n",
    "\n",
    "    def set_purchase_amount(self, purchase_amount):\n",
    "        self.__purchase_amount = purchase_amount\n",
    "        \n",
    "    def get_everything(self):\n",
    "        name = super().get_name()\n",
    "        address = super().get_address()\n",
    "        phone_number = super().get_phone_number()\n",
    "        return [name, address, phone_number, self.__purchase_amount,self.__customer_number]"
   ]
  },
  {
   "cell_type": "code",
   "execution_count": 38,
   "id": "c4837778",
   "metadata": {},
   "outputs": [
    {
     "name": "stdout",
     "output_type": "stream",
     "text": [
      "['Truc', '3033 LKKKK', 1231237]\n"
     ]
    }
   ],
   "source": [
    "\n",
    "person1 = Person('Truc', '3033 LKKKK', 1231237)\n",
    "print(person1.get_everything())"
   ]
  },
  {
   "cell_type": "code",
   "execution_count": 39,
   "id": "74d98383",
   "metadata": {},
   "outputs": [
    {
     "name": "stdout",
     "output_type": "stream",
     "text": [
      "['Phuong', '3033 LKKKK', 1231237, 234.3, 34324234]\n"
     ]
    }
   ],
   "source": [
    "person2 = Customer('Phuong', '3033 LKKKK', 1231237, 34324234, 234.3)\n",
    "print(person2.get_everything())"
   ]
  },
  {
   "cell_type": "markdown",
   "id": "iLlWETsapgvY",
   "metadata": {
    "id": "iLlWETsapgvY"
   },
   "source": [
    "## 5.2 Object Composition (Follow):  \n",
    "\n",
    "**Learning Objectives:**\n",
    "\n",
    "    1. Understand how objects can reference other objects\n",
    "    2. Understand that objects can call functions inside other objects "
   ]
  },
  {
   "cell_type": "code",
   "execution_count": 43,
   "id": "SjA7vcSRp1E5",
   "metadata": {
    "id": "SjA7vcSRp1E5"
   },
   "outputs": [],
   "source": [
    "#add comments to the code\n",
    "\n",
    "class Person:\n",
    "    def __init__(self, name, age, weight):\n",
    "        self.__name = name\n",
    "        self.__age = age\n",
    "        self.__weight = weight\n",
    "\n",
    "\n",
    "class F1_Driver:\n",
    "    def __init__(self, name, age, weight, team, wins):\n",
    "        self.__person = Person(name, age, weight)\n",
    "        self.__team = team\n",
    "        self.__wins = wins\n",
    "\n",
    "    def get_team(self):\n",
    "        return self.__team\n",
    "\n",
    "    def get_wins(self):\n",
    "        return self.__wins\n",
    "    \n",
    "    def get_person(self):\n",
    "        return self.__person"
   ]
  },
  {
   "cell_type": "code",
   "execution_count": 44,
   "id": "AwD-Hjs8p115",
   "metadata": {
    "colab": {
     "base_uri": "https://localhost:8080/"
    },
    "id": "AwD-Hjs8p115",
    "outputId": "1da44dca-2afe-4b9e-ad7f-58659b731390"
   },
   "outputs": [
    {
     "name": "stdout",
     "output_type": "stream",
     "text": [
      "Mercedes\n",
      "<bound method F1_Driver.get_person of <__main__.F1_Driver object at 0x00000238AACE37F0>>\n"
     ]
    }
   ],
   "source": [
    "if __name__ == \"__main__\":\n",
    "    name1 = \"Lewis Hamilton\"\n",
    "    name2 = \"Max Verstappen\"\n",
    "    \n",
    "    age1 = 37\n",
    "    age2 = 24\n",
    "\n",
    "    weight1 = 146\n",
    "    weight2 = 144\n",
    "\n",
    "    team1 = \"Mercedes\"\n",
    "    team2 = \"Red Bull\"\n",
    "  \n",
    "    wins1 = 103\n",
    "    wins2 = 20\n",
    "\n",
    "    GOAT = F1_Driver(name1, age1, weight1, team1, wins1)\n",
    "    Youngster = F1_Driver(name2, age2, weight2, team2, wins2)\n",
    "\n",
    "    print(GOAT.get_team())\n",
    "    \n",
    "    print(GOAT.get_person)"
   ]
  },
  {
   "cell_type": "markdown",
   "id": "AMl2yXaksT_t",
   "metadata": {
    "id": "AMl2yXaksT_t"
   },
   "source": [
    "### While the above program executes, answer the following questions:\n",
    "\n",
    "1. write functions in the appropriate places to return name, age, and weight.  Why did you have to put them there?\n",
    "2. Write a function to increment the number of wins for the driver.\n",
    "3. Write another function to return all known values for one object.  How did you accomplish this?"
   ]
  },
  {
   "cell_type": "markdown",
   "id": "tWuOZ03Zp2Ls",
   "metadata": {
    "id": "tWuOZ03Zp2Ls"
   },
   "source": [
    "## 5.2 Object Composition (Group):  \n",
    "\n",
    "**Write a program that will do the following:**\n",
    "\n",
    "    1. Create a salary class.\n",
    "    2. The salary class should have attributes monthly income and bonus.\n",
    "    3. Create an employee class.\n",
    "    4. The employee class should have attributes employee ID, Object Salary, and job title\n",
    "    5. Create get and set methods for all variables.\n",
    "    6. Create a couple of objects and print the contents to the screen.\n",
    "    \n",
    "    "
   ]
  },
  {
   "cell_type": "code",
   "execution_count": 47,
   "id": "QXqJ9WCyqBR1",
   "metadata": {
    "id": "QXqJ9WCyqBR1"
   },
   "outputs": [],
   "source": [
    "class Salary:\n",
    "    def __init__(self, monthly_income, bonus):\n",
    "        self.__monthly_income = monthly_income\n",
    "        self.__bonus = bonus\n",
    "\n",
    "    def get_monthly_income (self):\n",
    "        return self.__monthly_income\n",
    "\n",
    "    def set_monthly_income (self, monthly_income):\n",
    "        self.__monthly_income = monthly_income\n",
    "\n",
    "    def get_bonus (self):\n",
    "        return self.__bonus\n",
    "\n",
    "    def set_bonus (self, bonus):\n",
    "        self.__bonus = bonus\n",
    "       "
   ]
  },
  {
   "cell_type": "code",
   "execution_count": 62,
   "id": "UUfsmbTKqDLJ",
   "metadata": {
    "colab": {
     "base_uri": "https://localhost:8080/"
    },
    "id": "UUfsmbTKqDLJ",
    "outputId": "ec5973ed-74c2-47d0-d276-a011171fe77b"
   },
   "outputs": [],
   "source": [
    "\n",
    "class Employee:\n",
    "    def __init__(self, monthly_income, bonus, employee_id, job_title):\n",
    "        self.__salary = Salary(monthly_income, bonus)\n",
    "        self.__employee_id = employee_id\n",
    "        self.__job_title = job_title\n",
    "\n",
    "    def get_employee_id(self):\n",
    "        return self.__employee_id\n",
    "\n",
    "    def set_employee_id(self, employee_id):\n",
    "        self.__employee_id = employee_id\n",
    "\n",
    "    def get_job_title(self):\n",
    "        return self.__job_title\n",
    "\n",
    "    def set_job_title(self, job_title):\n",
    "        self.__job_title = job_title\n",
    "\n",
    "    def get_salary (self):\n",
    "        return self.__salary\n",
    "\n",
    "    def set_salary_income (self, monthly_income):\n",
    "        self.__salary.set_monthly_income = monthly_income\n",
    "\n",
    "    def set_salary_bonus (self, bonus):\n",
    "        self.__salary.set_bonus = bonus\n",
    "        \n",
    "#     def set_salary (self, monthly_income, bonus):\n",
    "#         self.__salary.set_monthly_income = monthly_income\n",
    "#         self.__salary.set_bonus = bonus"
   ]
  },
  {
   "cell_type": "code",
   "execution_count": 65,
   "id": "41eaf13f",
   "metadata": {},
   "outputs": [
    {
     "name": "stdout",
     "output_type": "stream",
     "text": [
      "123123, 980980\n"
     ]
    }
   ],
   "source": [
    "salary1= Salary(123123, 980980)\n",
    "print(f\"{salary1.get_monthly_income()}, {salary1.get_bonus()}\")"
   ]
  },
  {
   "cell_type": "code",
   "execution_count": 66,
   "id": "d3a7d2bd",
   "metadata": {},
   "outputs": [
    {
     "name": "stdout",
     "output_type": "stream",
     "text": [
      "HAG87678, Engineer, 2313\n"
     ]
    }
   ],
   "source": [
    "employee1 = Employee(2313, 88787788, 'HAG87678', 'Engineer')\n",
    "print(f\"{employee1.get_employee_id()}, {employee1.get_job_title()}, {employee1.get_salary().get_monthly_income()}\")"
   ]
  },
  {
   "cell_type": "markdown",
   "id": "6majl1Bbq30B",
   "metadata": {
    "id": "6majl1Bbq30B"
   },
   "source": [
    "## 5.3 Lists of Objects (Follow):  \n",
    "\n",
    "**Learning Objectives:**\n",
    "\n",
    "    1. Understand how objects can be placed in lists.\n",
    "    2. Understand the usefulness of lists of objects.\n",
    "    "
   ]
  },
  {
   "cell_type": "code",
   "execution_count": 1,
   "id": "e3uvsrjVrA0U",
   "metadata": {
    "id": "e3uvsrjVrA0U"
   },
   "outputs": [],
   "source": [
    "# add comments to the code\n",
    "\n",
    "class Contact():\n",
    "    def __init__(self, name, age):\n",
    "        self.__name = name\n",
    "        self.__age = age\n",
    "        \n",
    "    def get_name(self):\n",
    "        return self.__name\n",
    "    \n",
    "    def get_age(self):\n",
    "        return self.__age\n",
    "\n",
    "    "
   ]
  },
  {
   "cell_type": "code",
   "execution_count": 2,
   "id": "faSFA6tqrBlo",
   "metadata": {
    "colab": {
     "base_uri": "https://localhost:8080/"
    },
    "id": "faSFA6tqrBlo",
    "outputId": "204ac9c5-a7f4-4b86-99bf-5ad859740e68"
   },
   "outputs": [
    {
     "name": "stdout",
     "output_type": "stream",
     "text": [
      "I am contact 0 of 9\n",
      "I am contact 1 of 9\n",
      "I am contact 2 of 9\n",
      "I am contact 3 of 9\n",
      "I am contact 4 of 9\n",
      "I am contact 5 of 9\n",
      "I am contact 6 of 9\n",
      "I am contact 7 of 9\n",
      "I am contact 8 of 9\n"
     ]
    }
   ],
   "source": [
    "if __name__ == \"__main__\":\n",
    "  \n",
    "    contact_list = []\n",
    "\n",
    "    for i in range(9):\n",
    "        contact = Contact(\"I am contact \" + str(i) + \" of 9\", i)\n",
    "        contact_list.append(contact)\n",
    "    \n",
    "    for i in range(9):\n",
    "        print(contact_list[i].get_name())\n"
   ]
  },
  {
   "cell_type": "markdown",
   "id": "ZZSkEbxqsWXU",
   "metadata": {
    "id": "ZZSkEbxqsWXU"
   },
   "source": [
    "### While the above program executes, answer the following questions:\n",
    "\n",
    "1. What is actually in the list?\n",
    "2. What does the line: contact = Contact(\"I am contact \" + str(i) + \" of 9\", i) do?\n"
   ]
  },
  {
   "cell_type": "markdown",
   "id": "J9awaUcCrCYI",
   "metadata": {
    "id": "J9awaUcCrCYI"
   },
   "source": [
    "## 5.3 Lists of Objects (Group):  \n",
    "\n",
    "**Write a program that will do the following:**\n",
    "\n",
    "    1. Create class employee\n",
    "    2. Class employee should have attributes employee id, job title, monthly income, and name.\n",
    "    3. The employee class should have getter functions for all attributes.\n",
    "    4. Create a list with 10 employee objects.\n",
    "    5. Print the contents of list only printing the employee id.\n",
    "    6. For an added challenge, make employee ID random.  \n",
    "    7. You can also try printing the list of objects in different formats.\n"
   ]
  },
  {
   "cell_type": "code",
   "execution_count": 5,
   "id": "BXGtdH4PrLcx",
   "metadata": {
    "id": "BXGtdH4PrLcx"
   },
   "outputs": [],
   "source": [
    "    \n",
    "class Employee:\n",
    "    def __init__(self, employee_id, job_title, monthly_income, name):\n",
    "        self.__employee_id = employee_id\n",
    "        self.__job_title = job_title\n",
    "        self.__monthly_income = monthly_income\n",
    "        self.__name = name\n",
    "        \n",
    "    def get_employee_id (self):\n",
    "        return self.__employee_id\n",
    "\n",
    "    def set_employee_id (self, employee_id):\n",
    "        self.__employee_id = employee_id\n",
    "\n",
    "    def get_job_title (self):\n",
    "        return self.__job_title\n",
    "\n",
    "    def set_job_title (self, job_title):\n",
    "        self.__job_title = job_title\n",
    "\n",
    "    def get_monthly_income (self):\n",
    "        return self.__monthly_income\n",
    "\n",
    "    def set_monthly_income (self, ):\n",
    "        self.__monthly_income = monthly_income\n",
    "\n",
    "    def get_name (self):\n",
    "        return self.__name\n",
    "\n",
    "    def set_name (self, name):\n",
    "        self.__name = name\n"
   ]
  },
  {
   "cell_type": "code",
   "execution_count": 4,
   "id": "a6686a4e",
   "metadata": {},
   "outputs": [
    {
     "data": {
      "text/plain": [
       "573"
      ]
     },
     "execution_count": 4,
     "metadata": {},
     "output_type": "execute_result"
    }
   ],
   "source": [
    "import random\n",
    "def generate_number():\n",
    "    return random.randrange(1000)"
   ]
  },
  {
   "cell_type": "code",
   "execution_count": 10,
   "id": "5e2Wy-BLrMQC",
   "metadata": {
    "colab": {
     "base_uri": "https://localhost:8080/"
    },
    "id": "5e2Wy-BLrMQC",
    "outputId": "dba0f8d1-80d5-468a-a908-7ec483283001"
   },
   "outputs": [],
   "source": [
    "import random\n",
    "if __name__== \"__main__\":\n",
    "    salary = [1000, 1100, 2100, 1555]\n",
    "    jobs = ['doctor', 'nurse', 'staff']\n",
    "    first_names=('John','Andy','Joe')\n",
    "    last_names=('Johnson','Smith','Williams')\n",
    "    \n",
    "    employee_list=[]\n",
    "    for i in range(1,11):\n",
    "        employee_list.append(Employee(generate_number(), random.choice(jobs), random.choice(salary),  random.choice(first_names)+\" \"+random.choice(last_names)))\n",
    "    "
   ]
  },
  {
   "cell_type": "code",
   "execution_count": 15,
   "id": "c18fd2bc",
   "metadata": {},
   "outputs": [
    {
     "name": "stdout",
     "output_type": "stream",
     "text": [
      "Joe Johnson ,  273\n",
      "Joe Smith ,  770\n",
      "Joe Smith ,  689\n",
      "John Johnson ,  37\n",
      "Andy Johnson ,  185\n",
      "Joe Johnson ,  992\n",
      "John Smith ,  231\n",
      "John Johnson ,  246\n",
      "Andy Johnson ,  134\n",
      "Joe Williams ,  432\n"
     ]
    }
   ],
   "source": [
    "for employee in employee_list:\n",
    "    print(employee.get_name(),', ', employee.get_employee_id())"
   ]
  },
  {
   "cell_type": "markdown",
   "id": "Z21hzYZNrMo3",
   "metadata": {
    "id": "Z21hzYZNrMo3"
   },
   "source": [
    "## 5.4 Stacks and Queues (Follow):  \n",
    "\n",
    "**Learning Objectives:**\n",
    "\n",
    "    1. Understand how stacks are implemented.\n",
    "    2. Understand how queques are implemented.\n",
    "    3. Understand the importance of stacks and queues in programming."
   ]
  },
  {
   "cell_type": "code",
   "execution_count": 16,
   "id": "G5x9t35RrV-S",
   "metadata": {
    "colab": {
     "base_uri": "https://localhost:8080/"
    },
    "id": "G5x9t35RrV-S",
    "outputId": "3d706715-4d93-4f65-ee58-4b2a51da2b60"
   },
   "outputs": [
    {
     "name": "stdout",
     "output_type": "stream",
     "text": [
      "Initial stack\n",
      "['a', 'b', 'c']\n",
      "\n",
      "Elements popped from stack:\n",
      "c\n",
      "b\n",
      "a\n",
      "\n",
      "Stack after elements are popped:\n",
      "[]\n"
     ]
    }
   ],
   "source": [
    "#add comments to the code\n",
    " \n",
    "stack = []\n",
    " \n",
    "stack.append('a')\n",
    "stack.append('b')\n",
    "stack.append('c')\n",
    " \n",
    "print('Initial stack')\n",
    "print(stack)\n",
    " \n",
    "print('\\nElements popped from stack:')\n",
    "print(stack.pop())\n",
    "print(stack.pop())\n",
    "print(stack.pop())\n",
    " \n",
    "print('\\nStack after elements are popped:')\n",
    "print(stack)\n",
    " \n"
   ]
  },
  {
   "cell_type": "code",
   "execution_count": 17,
   "id": "hN3blzfOra_J",
   "metadata": {
    "colab": {
     "base_uri": "https://localhost:8080/"
    },
    "id": "hN3blzfOra_J",
    "outputId": "fc41ac8b-a76c-415e-8591-e53eebe6c06c"
   },
   "outputs": [
    {
     "name": "stdout",
     "output_type": "stream",
     "text": [
      "Initial queue\n",
      "['a', 'b', 'c']\n",
      "\n",
      "Elements dequeued from queue\n",
      "a\n",
      "b\n",
      "c\n",
      "\n",
      "Queue after removing elements\n",
      "[]\n"
     ]
    }
   ],
   "source": [
    "#add comments to the code\n",
    "\n",
    "queue = []\n",
    " \n",
    "queue.append('a')\n",
    "queue.append('b')\n",
    "queue.append('c')\n",
    " \n",
    "print(\"Initial queue\")\n",
    "print(queue)\n",
    " \n",
    "print(\"\\nElements dequeued from queue\")\n",
    "print(queue.pop(0))\n",
    "print(queue.pop(0))\n",
    "print(queue.pop(0))\n",
    " \n",
    "print(\"\\nQueue after removing elements\")\n",
    "print(queue)\n",
    " \n"
   ]
  },
  {
   "cell_type": "markdown",
   "id": "tmprS5USsZB_",
   "metadata": {
    "id": "tmprS5USsZB_"
   },
   "source": [
    "### While the above program executes, answer the following questions:\n",
    "\n",
    "1. Put print statements between each pop and explain the results.\n",
    "2. Where is an example you have seen a stack or queue used in real-life?\n",
    "3. What is the order that the items are put into the queue/stack and taken out?\n"
   ]
  },
  {
   "cell_type": "markdown",
   "id": "WoDukkV3rbRw",
   "metadata": {
    "id": "WoDukkV3rbRw"
   },
   "source": [
    "## 5.4 Stacks and Queues (Group):  \n",
    "\n",
    "**Write a program that will do the following:**\n",
    "\n",
    "    1. Create an employee class.\n",
    "    2. The employee class should have attributes name and employee ID\n",
    "    3. Create at least three employee objects.\n",
    "    4. Push the objects into a queue and stack.\n",
    "    5. Remove the employees from the stack and queue until both are empty.\n",
    "    6. Print the orders of both employee objects. "
   ]
  },
  {
   "cell_type": "code",
   "execution_count": 20,
   "id": "utKkoMXkreOu",
   "metadata": {
    "id": "utKkoMXkreOu"
   },
   "outputs": [],
   "source": [
    "    \n",
    "class Employee1:\n",
    "    def __init__(self, employee_id, name):\n",
    "        self.__employee_id = employee_id\n",
    "        self.__name = name\n",
    "        \n",
    "    def get_employee_id (self):\n",
    "        return self.__employee_id\n",
    "\n",
    "    def set_employee_id (self, employee_id):\n",
    "        self.__employee_id = employee_id\n",
    "\n",
    "    def get_name (self):\n",
    "        return self.__name\n",
    "\n",
    "    def set_name (self, name):\n",
    "        self.__name = name\n"
   ]
  },
  {
   "cell_type": "code",
   "execution_count": 44,
   "id": "sD5qnkuYrfRP",
   "metadata": {
    "colab": {
     "base_uri": "https://localhost:8080/"
    },
    "id": "sD5qnkuYrfRP",
    "outputId": "219ed508-a740-4177-bf97-40a13b04c578"
   },
   "outputs": [
    {
     "name": "stdout",
     "output_type": "stream",
     "text": [
      "This is queue for position 1: Joe Williams\n",
      "This is stack for position 1: Andy Johnson\n",
      "This is queue for position 2: Truc Johnson\n",
      "This is stack for position 2: Truc Johnson\n",
      "This is queue for position 3: Andy Johnson\n",
      "This is stack for position 3: Joe Williams\n"
     ]
    }
   ],
   "source": [
    "import random\n",
    "\n",
    "first_names=('John','Andy','Joe','Truc')\n",
    "last_names=('Johnson','Smith','Williams','Lee')\n",
    "\n",
    "# Generate data\n",
    "employee_list=[]\n",
    "stack = []\n",
    "queue = []\n",
    "\n",
    "# Generate data\n",
    "for i in range(1,4):\n",
    "    employee_list.append(Employee1(generate_number(),random.choice(first_names)+\" \"+random.choice(last_names)))\n",
    "        \n",
    "# Clone the data into stack and queue\n",
    "stack = list(employee_list)\n",
    "queue = list(employee_list)\n",
    "\n",
    "for i in range(1,len(employee_list)+1):\n",
    "    print(f\"This is queue for position {i}: {queue.pop(0).get_name()}\")\n",
    "    print(f\"This is stack for position {i}: {stack.pop().get_name()}\")\n",
    "    "
   ]
  },
  {
   "cell_type": "markdown",
   "id": "bti2P433Fib2",
   "metadata": {
    "id": "bti2P433Fib2"
   },
   "source": [
    "## 5.5 Mini Project (Group):  \n",
    "\n",
    "**Write a program that will do the following:**\n",
    "\n",
    "    1. Try to use the material you have been learning to create a program that will be usefule to your life/work.\n",
    "    2. Try to use classes and objects.\n",
    "    3. Try to use these objects to store and process information."
   ]
  },
  {
   "cell_type": "code",
   "execution_count": 36,
   "id": "kGIk56AbDovt",
   "metadata": {
    "id": "kGIk56AbDovt"
   },
   "outputs": [],
   "source": [
    "\"\"\"\n",
    "Print Job is a job that a printer can create\n",
    "\"\"\"\n",
    "\n",
    "class PrintJob:\n",
    "    def __init__(self, job_id):\n",
    "        self.__job_id = job_id\n",
    "\n",
    "    def get_job_id(self):\n",
    "        return self.__job_id\n",
    "\n",
    "    def set_job_id(self, job_id):\n",
    "        self.__job_id = job_id"
   ]
  },
  {
   "cell_type": "code",
   "execution_count": 79,
   "id": "YBtnPlb6Fst3",
   "metadata": {
    "id": "YBtnPlb6Fst3"
   },
   "outputs": [],
   "source": [
    "\"\"\"\n",
    "Printer hold all the print job in a queue\n",
    "\"\"\"\n",
    "class Printer:\n",
    "    def __init__(self):\n",
    "        self.__queue = []\n",
    "\n",
    "    def push_queue(self, jobs):\n",
    "        self.__queue.append(jobs)\n",
    "\n",
    "    def pop_queue(self):\n",
    "        return self.__queue.pop()\n",
    "\n",
    "    def print_queue(self):\n",
    "        print(\"This is the remaining papers in the queue: \")\n",
    "        for data in self.__queue:\n",
    "            print(data.get_job_id())"
   ]
  },
  {
   "cell_type": "code",
   "execution_count": 81,
   "id": "22c1df14",
   "metadata": {},
   "outputs": [
    {
     "name": "stdout",
     "output_type": "stream",
     "text": [
      "Enter the id here: 34.3\n",
      "This is the paper that finish printing: 471\n",
      "This is the remainning papers in the queue: \n",
      "34.3\n",
      "727\n",
      "175\n"
     ]
    }
   ],
   "source": [
    "# create printer object            \n",
    "printer = Printer()\n",
    "user_input = input(\"Enter the id here: \")\n",
    "# push print job inside printer, each of them is a print object\n",
    "printer.push_queue(PrintJob(user_input))\n",
    "printer.push_queue(PrintJob(generate_number()))\n",
    "printer.push_queue(PrintJob(generate_number()))\n",
    "printer.push_queue(PrintJob(generate_number()))\n",
    "\n",
    "# print out the first paper in queue\n",
    "print(f\"This is the paper that finish printing: {printer.pop_queue().get_job_id()}\")\n",
    "\n",
    "# print out the remainning\n",
    "printer.print_queue()"
   ]
  }
 ],
 "metadata": {
  "colab": {
   "collapsed_sections": [],
   "name": "WSK Week 5 Solutions.ipynb",
   "provenance": []
  },
  "kernelspec": {
   "display_name": "Python 3",
   "language": "python",
   "name": "python3"
  },
  "language_info": {
   "codemirror_mode": {
    "name": "ipython",
    "version": 3
   },
   "file_extension": ".py",
   "mimetype": "text/x-python",
   "name": "python",
   "nbconvert_exporter": "python",
   "pygments_lexer": "ipython3",
   "version": "3.8.8"
  }
 },
 "nbformat": 4,
 "nbformat_minor": 5
}
