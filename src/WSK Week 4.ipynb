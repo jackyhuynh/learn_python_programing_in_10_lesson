{
 "cells": [
  {
   "cell_type": "markdown",
   "id": "436acaa8",
   "metadata": {},
   "source": [
    "Truc Huynh\n",
    "2/1/2022\n",
    "Submission 1"
   ]
  },
  {
   "cell_type": "markdown",
   "id": "c3e413d5",
   "metadata": {
    "id": "c3e413d5"
   },
   "source": [
    "# Workshop 4 [Students]\n",
    "\n",
    "This notebook will cover the following topics:\n",
    "\n",
    "1. Composition\n",
    "2. Encapsulation\n",
    "3. Inheritance\n",
    "4. Mini Project"
   ]
  },
  {
   "cell_type": "markdown",
   "id": "41e9aaec",
   "metadata": {
    "id": "41e9aaec"
   },
   "source": [
    "## 4.1 Composition (Follow):  \n",
    "\n",
    "**Learning Objectives:**\n",
    "\n",
    "    1. Understand what things can be placed inside objects\n",
    "    2. Understand how to implement an object\n",
    "    3. Understand what a program can do with those things inside objects\n",
    "    4. Understand what constructors are"
   ]
  },
  {
   "cell_type": "code",
   "execution_count": 4,
   "id": "4da24d64",
   "metadata": {
    "id": "4da24d64"
   },
   "outputs": [],
   "source": [
    "#Add comments to the code\n",
    "\n",
    "class Pet:\n",
    "    \"\"\"\n",
    "    class Pet has a constructor that take 3 parameters name, animal_type, age\n",
    "    intialize the class variables with according parameter\n",
    "    \"\"\"\n",
    "    def __init__(self, name, animal_type, age):\n",
    "        self.name = name\n",
    "        self.animal_type = animal_type\n",
    "        self.age = age\n",
    "        "
   ]
  },
  {
   "cell_type": "code",
   "execution_count": 3,
   "id": "af3e33de",
   "metadata": {
    "id": "af3e33de",
    "outputId": "6d0b848e-ac3d-4cc7-e0d6-d4c349d24ed2"
   },
   "outputs": [
    {
     "name": "stdout",
     "output_type": "stream",
     "text": [
      "Spot\n",
      "5\n",
      "Goldfish\n"
     ]
    }
   ],
   "source": [
    "\"\"\"\n",
    "main function \n",
    "- create object myPot\n",
    "- call print object to print myPot\n",
    "\"\"\"\n",
    "def main():\n",
    "    age = 5\n",
    "    name = \"Spot\"\n",
    "    animal_type = \"Goldfish\"\n",
    "    # create object\n",
    "    mypet = Pet(name, animal_type, age)\n",
    "    # print\n",
    "    print_object(mypet)\n",
    "    \n",
    "\"\"\"\n",
    "The print_object print out the ,name ,age, type of object\n",
    "\"\"\"    \n",
    "def print_object(object_name):\n",
    "    print(object_name.name)\n",
    "    print(object_name.age)\n",
    "    print(object_name.animal_type)\n",
    "    \n",
    "    \n",
    "main()"
   ]
  },
  {
   "cell_type": "markdown",
   "id": "8de49e9a",
   "metadata": {
    "id": "8de49e9a"
   },
   "source": [
    "### As the above code executes, think about the following questions:\n",
    "\n",
    "1. What does the __init__ function do? initialize/constructor\n",
    "2. What does the __ in front of a vairable do? Naming the __ before and after is use as special methods in Python. Can be used as operator overloading depending on the user.\n",
    "3. What is a class? class is a template\n",
    "4. How could you use a class in programming? intialize and call the constructor to build and object from class then it can be used"
   ]
  },
  {
   "cell_type": "markdown",
   "id": "c53381e8",
   "metadata": {
    "id": "c53381e8"
   },
   "source": [
    "## 4.1 Composition (Group):  \n",
    "\n",
    "**Write a program that will do the following:**\n",
    "\n",
    "    1. Implement a class car.\n",
    "    2. The class car will have the following attributes: year, make, and model.\n",
    "    3. The user can input the information or it may be hard coded.\n",
    "    4. The program will create an object of type car and store this information.\n",
    "    5. Print the information stored in the object."
   ]
  },
  {
   "cell_type": "code",
   "execution_count": 7,
   "id": "012e22e3",
   "metadata": {
    "id": "012e22e3",
    "outputId": "f6dc1283-624f-4402-f806-7e4e1cbaae43"
   },
   "outputs": [],
   "source": [
    "class Car:\n",
    "    def __init__(self, year, make, model):\n",
    "        self.year = year\n",
    "        self.make = make\n",
    "        self.model = model"
   ]
  },
  {
   "cell_type": "code",
   "execution_count": 8,
   "id": "76b58cdf",
   "metadata": {},
   "outputs": [
    {
     "name": "stdout",
     "output_type": "stream",
     "text": [
      "2012\n",
      "Toyota\n",
      "Camry LE\n"
     ]
    }
   ],
   "source": [
    "def main():\n",
    "    year = 2012\n",
    "    make = 'Toyota'\n",
    "    model = 'Camry LE'\n",
    "    \n",
    "    my_car = Car(year, make, model)\n",
    "    print_car(my_car)\n",
    "\n",
    "    \n",
    "def print_car(car_object):\n",
    "    print(car_object.year)\n",
    "    print(car_object.make)\n",
    "    print(car_object.model)\n",
    "\n",
    "\n",
    "main()"
   ]
  },
  {
   "cell_type": "markdown",
   "id": "df0073c0",
   "metadata": {
    "id": "df0073c0"
   },
   "source": [
    "## 4.2 Encapsulation (Follow):  \n",
    "\n",
    "**Learning Objectives:**\n",
    "\n",
    "    1. Understand how functions behave inside classes\n",
    "    2. Understand how to call functions on classes\n",
    "    3. Understand how to manipulate date using function inside classes\n",
    "    4. Understand what can and cannot be called inside functions "
   ]
  },
  {
   "cell_type": "code",
   "execution_count": 9,
   "id": "e32ec1ff",
   "metadata": {
    "id": "e32ec1ff"
   },
   "outputs": [],
   "source": [
    "\n",
    "class BankAccount:\n",
    "    # Constructor\n",
    "    def __init__(self, bal):\n",
    "        self.__balance = bal \n",
    "    # seposit function increase the balance\n",
    "    def deposit(self, amount):\n",
    "        self.__balance += amount\n",
    "    # withdraw functiion decrease the balance\n",
    "    def withdraw(self, amount):\n",
    "        # Validation if there is enoug hto withdraw\n",
    "        if self.__balance >= amount:\n",
    "            self.__balance -= amount\n",
    "        else:\n",
    "            print('Error: Insufficient funds')\n",
    "    # get the current balance\n",
    "    def get_balance(self):\n",
    "        return self.__balance\n",
    "    "
   ]
  },
  {
   "cell_type": "code",
   "execution_count": 10,
   "id": "aa637898",
   "metadata": {
    "id": "aa637898",
    "outputId": "08a1c213-80c0-434e-d150-9358d6f193cb"
   },
   "outputs": [
    {
     "name": "stdout",
     "output_type": "stream",
     "text": [
      "Enter your starting balance: 1000\n",
      "How much were you paid this week? 123\n",
      "I will deposit that into your account.\n",
      "1123.0\n",
      "How much would you like to withdraw? 0\n",
      "I will withdraw that from your account.\n",
      "1123.0\n"
     ]
    }
   ],
   "source": [
    "\"\"\"\n",
    "if __name__ == '__main__': run the app without the need of define of a main function\n",
    "The function demonstrate the ability to deposit and withdraw check\n",
    "\"\"\"\n",
    "if __name__ == '__main__':\n",
    "\n",
    "    start_bal = float(input('Enter your starting balance: '))\n",
    "\n",
    "    savings = BankAccount(start_bal)\n",
    "\n",
    "    pay = float(input('How much were you paid this week? '))\n",
    "    print('I will deposit that into your account.')\n",
    "    savings.deposit(pay)\n",
    "\n",
    "    balance = savings.get_balance()\n",
    "    print(balance)\n",
    "\n",
    "    cash = float(input('How much would you like to withdraw? '))\n",
    "    print('I will withdraw that from your account.')\n",
    "    savings.withdraw(cash)\n",
    "\n",
    "    print(savings.get_balance())"
   ]
  },
  {
   "cell_type": "code",
   "execution_count": 19,
   "id": "d6049860",
   "metadata": {},
   "outputs": [
    {
     "ename": "AttributeError",
     "evalue": "'BankAccount' object has no attribute 'balance'",
     "output_type": "error",
     "traceback": [
      "\u001b[1;31m---------------------------------------------------------------------------\u001b[0m",
      "\u001b[1;31mAttributeError\u001b[0m                            Traceback (most recent call last)",
      "\u001b[1;32m<ipython-input-19-13303c461719>\u001b[0m in \u001b[0;36m<module>\u001b[1;34m\u001b[0m\n\u001b[0;32m      4\u001b[0m \u001b[1;33m\u001b[0m\u001b[0m\n\u001b[0;32m      5\u001b[0m \u001b[1;33m\u001b[0m\u001b[0m\n\u001b[1;32m----> 6\u001b[1;33m \u001b[0mmain\u001b[0m\u001b[1;33m(\u001b[0m\u001b[1;33m)\u001b[0m\u001b[1;33m\u001b[0m\u001b[1;33m\u001b[0m\u001b[0m\n\u001b[0m",
      "\u001b[1;32m<ipython-input-19-13303c461719>\u001b[0m in \u001b[0;36mmain\u001b[1;34m()\u001b[0m\n\u001b[0;32m      1\u001b[0m \u001b[1;32mdef\u001b[0m \u001b[0mmain\u001b[0m\u001b[1;33m(\u001b[0m\u001b[1;33m)\u001b[0m\u001b[1;33m:\u001b[0m\u001b[1;33m\u001b[0m\u001b[1;33m\u001b[0m\u001b[0m\n\u001b[0;32m      2\u001b[0m         \u001b[0msavings\u001b[0m \u001b[1;33m=\u001b[0m \u001b[0mBankAccount\u001b[0m\u001b[1;33m(\u001b[0m\u001b[1;36m1234.55\u001b[0m\u001b[1;33m)\u001b[0m\u001b[1;33m\u001b[0m\u001b[1;33m\u001b[0m\u001b[0m\n\u001b[1;32m----> 3\u001b[1;33m         \u001b[0mprint\u001b[0m\u001b[1;33m(\u001b[0m\u001b[0msavings\u001b[0m\u001b[1;33m.\u001b[0m\u001b[0mbalance\u001b[0m\u001b[1;33m)\u001b[0m\u001b[1;33m\u001b[0m\u001b[1;33m\u001b[0m\u001b[0m\n\u001b[0m\u001b[0;32m      4\u001b[0m \u001b[1;33m\u001b[0m\u001b[0m\n\u001b[0;32m      5\u001b[0m \u001b[1;33m\u001b[0m\u001b[0m\n",
      "\u001b[1;31mAttributeError\u001b[0m: 'BankAccount' object has no attribute 'balance'"
     ]
    }
   ],
   "source": [
    "def main():\n",
    "        savings = BankAccount(1234.55)\n",
    "        print(savings.balance)\n",
    "\n",
    "        \n",
    "main()"
   ]
  },
  {
   "cell_type": "code",
   "execution_count": null,
   "id": "6277a14e",
   "metadata": {},
   "outputs": [],
   "source": []
  },
  {
   "cell_type": "markdown",
   "id": "137bac34",
   "metadata": {
    "id": "137bac34"
   },
   "source": [
    "### As the above code executes, think about the following questions:\n",
    "\n",
    "1. What are the \"__\" for in python? __variables make that variables a private (use internal inside the class only)\n",
    "2. Can you directly return the balance from the account?  Explain.\n",
    "3. What does the \"if __ name __ == '__ main __':\" line do? run the app without the need of define of a main function and call it\n",
    "4. How do you call functions inside classes? using the '.'(dot notation): object.function_name()"
   ]
  },
  {
   "cell_type": "markdown",
   "id": "0f1d2448",
   "metadata": {
    "id": "0f1d2448"
   },
   "source": [
    "## 4.2 Encapsulation (Group):  \n",
    "\n",
    "**Write a program that will do the following:**\n",
    "\n",
    "    1. Create class information.\n",
    "    2. The information class will keep track of is name, address, age, and phone number.\n",
    "    3. The class should be able to change and print all the above attributes.\n",
    "    4. You should take input from the console to create at least three objects that are all different.\n",
    "    5. You may also hard code these objects.\n",
    "    6. Lastly, your program should print the contents of these objects to the screen.\n",
    "    7. Hint: To create three different objects, declare as done above, but name them differently."
   ]
  },
  {
   "cell_type": "code",
   "execution_count": 29,
   "id": "370bb894",
   "metadata": {
    "id": "370bb894"
   },
   "outputs": [],
   "source": [
    "class Information:\n",
    "    def __init__(self, name, address, age, phone_number):\n",
    "        self.__name = name\n",
    "        self.__address = address\n",
    "        self.__age = age\n",
    "        self.__phone_number = phone_number\n",
    "    \n",
    "    \n",
    "    def set_name(self, name):\n",
    "        self.__name = name\n",
    "        \n",
    "    \n",
    "    def set_address(self, address):\n",
    "        self.__address = address\n",
    "        \n",
    "    \n",
    "    def set_age(self, age):\n",
    "        self.__age = age\n",
    "        \n",
    "    \n",
    "    def set_phone_number(self, phone_number):\n",
    "        self.__phone_number = phone_number\n",
    "        \n",
    "    \n",
    "    def get_name(self):\n",
    "        return self.__name\n",
    "    \n",
    "    \n",
    "    def get_address(self):\n",
    "        return self.__address\n",
    "    \n",
    "    \n",
    "    def get_age(self):\n",
    "        return self.__age\n",
    "    \n",
    "    \n",
    "    def get_phone_number(self):\n",
    "        return self.__phone_number"
   ]
  },
  {
   "cell_type": "code",
   "execution_count": 31,
   "id": "6bb3392b",
   "metadata": {
    "id": "6bb3392b",
    "outputId": "50d4a25f-080c-4231-e316-a0fcdf68e227"
   },
   "outputs": [
    {
     "name": "stdout",
     "output_type": "stream",
     "text": [
      "Name: Truc Huynh,age: 34, phone: 260-999-0989, address: 300, 1st street, Fort Wayne, IN\n",
      "Name: Triet Huynh,age: 34, phone: 260-999-0000, address: 300, 1st street, Fort Wayne, IN\n",
      "Name: Trang Huynh,age: 34, phone: 260-999-0777, address: 300, 1st street, Fort Wayne, IN\n"
     ]
    }
   ],
   "source": [
    "def print_user_info(user_info):\n",
    "    print(f\"Name: {user_info.get_name()}, age: {user_info.get_age()}, phone: {user_info.get_phone_number()}, address: {user_info.get_address()}\")\n",
    "\n",
    "    \n",
    "if __name__ == '__main__':\n",
    "    user1_info = Information('Truc Huynh', '300, 1st street, Fort Wayne, IN', 34, '260-999-0989')\n",
    "    user2_info = Information('Triet Huynh', '300, 1st street, Fort Wayne, IN', 34, '260-999-0000')\n",
    "    user3_info = Information('Trang Huynh', '300, 1st street, Fort Wayne, IN', 34, '260-999-0777')\n",
    "    \n",
    "    print_user_info(user1_info)\n",
    "    print_user_info(user2_info)\n",
    "    print_user_info(user3_info)\n",
    "    "
   ]
  },
  {
   "cell_type": "markdown",
   "id": "b9f5681d",
   "metadata": {
    "id": "b9f5681d"
   },
   "source": [
    "## 4.3 Inheritence (Follow):  \n",
    "\n",
    "**Learning Objectives:**\n",
    "\n",
    "    1. Understand how inheritance works\n",
    "    2. Understand how to declare inheritance\n",
    "    3. Understand what is inherited by a class"
   ]
  },
  {
   "cell_type": "code",
   "execution_count": 33,
   "id": "a386b86c",
   "metadata": {
    "id": "a386b86c"
   },
   "outputs": [],
   "source": [
    "# Add comments to the code \n",
    "\n",
    "class Automobile:\n",
    "    \n",
    "    def __init__(self, make, model, mileage, price):\n",
    "        self.__make = make\n",
    "        self.__model = model\n",
    "        self.__mileage = mileage\n",
    "        self.__price = price\n",
    "\n",
    "    \n",
    "    def set_make(self, make):\n",
    "        self.__make = make\n",
    "\n",
    "    def set_model(self, model):\n",
    "        self.__model = model\n",
    "\n",
    "    def set_mileage(self, mileage):\n",
    "        self.__mileage = mileage\n",
    "\n",
    "    def set_price(self, price):\n",
    "        self.__price = price\n",
    "\n",
    "    \n",
    "    def get_make(self):\n",
    "        return self.__make\n",
    "\n",
    "    def get_model(self):\n",
    "        return self.__model\n",
    "\n",
    "    def get_mileage(self):\n",
    "        return self.__mileage\n",
    "\n",
    "    def get_price(self):\n",
    "        return self.__price\n"
   ]
  },
  {
   "cell_type": "code",
   "execution_count": 34,
   "id": "7q6wI8HygYO8",
   "metadata": {
    "id": "7q6wI8HygYO8"
   },
   "outputs": [],
   "source": [
    "class Car(Automobile):\n",
    "    \n",
    "    def __init__(self, make, model, mileage, price, doors):\n",
    "\n",
    "        Automobile.__init__(self, make, model, mileage, price)\n",
    "        self.__doors = doors\n",
    "\n",
    "    \n",
    "    def set_doors(self, doors):\n",
    "        self.__doors = doors\n",
    "\n",
    "    def get_doors(self):\n",
    "        return self.__doors\n"
   ]
  },
  {
   "cell_type": "code",
   "execution_count": 35,
   "id": "uCYc3kZ3giy7",
   "metadata": {
    "id": "uCYc3kZ3giy7"
   },
   "outputs": [],
   "source": [
    "class Truck(Automobile):\n",
    "    \n",
    "    def __init__(self, make, model, mileage, price, drive_type):\n",
    "        Automobile.__init__(self, make, model, mileage, price)\n",
    "        \n",
    "        self.__drive_type = drive_type\n",
    "\n",
    "    \n",
    "    def set_drive_type(self, drive_type):\n",
    "        self.__drive_type = drive_type\n",
    "\n",
    "    def get_drive_type(self):\n",
    "        return self.__drive_type\n"
   ]
  },
  {
   "cell_type": "code",
   "execution_count": 36,
   "id": "XePI46Evgqbv",
   "metadata": {
    "id": "XePI46Evgqbv"
   },
   "outputs": [],
   "source": [
    "class SUV(Automobile):\n",
    "    \n",
    "    def __init__(self, make, model, mileage, price, pass_cap):\n",
    "        Automobile.__init__(self, make, model, mileage, price)\n",
    "        \n",
    "        self.__pass_cap = pass_cap\n",
    "\n",
    "    \n",
    "    def set_pass_cap(self, pass_cap):\n",
    "        self.__pass_cap = pass_cap\n",
    "\n",
    "    def get_pass_cap(self):\n",
    "        return self.__pass_cap"
   ]
  },
  {
   "cell_type": "code",
   "execution_count": 37,
   "id": "2cc062ca",
   "metadata": {
    "id": "2cc062ca"
   },
   "outputs": [
    {
     "name": "stdout",
     "output_type": "stream",
     "text": [
      "Make: Audi\n",
      "Model: 2007\n",
      "Mileage: 12500\n",
      "Price: 21500.0\n",
      "Number of doors: 4\n"
     ]
    }
   ],
   "source": [
    "used_car = Car('Audi', 2007, 12500, 21500.00, 4)\n",
    "\n",
    "print('Make:', used_car.get_make())\n",
    "print('Model:', used_car.get_model())\n",
    "print('Mileage:', used_car.get_mileage())\n",
    "print('Price:', used_car.get_price())\n",
    "print('Number of doors:', used_car.get_doors())\n"
   ]
  },
  {
   "cell_type": "code",
   "execution_count": 40,
   "id": "d9cdc391",
   "metadata": {},
   "outputs": [
    {
     "name": "stdout",
     "output_type": "stream",
     "text": [
      "Make: Ford\n",
      "Model: 2017\n",
      "Mileage: 10250\n",
      "Price: 41500.0\n",
      "Drive type: 2 wheal drive\n"
     ]
    }
   ],
   "source": [
    "used_truck = Truck('Ford F150', 2017, 10250, 41500.00, '2 wheal drive')\n",
    "\n",
    "print('Make:', used_truck.get_make())\n",
    "print('Model:', used_truck.get_model())\n",
    "print('Mileage:', used_truck.get_mileage())\n",
    "print('Price:', used_truck.get_price())\n",
    "print('Drive type:', used_truck.get_drive_type())\n"
   ]
  },
  {
   "cell_type": "markdown",
   "id": "dQaOC50_hhvk",
   "metadata": {
    "id": "dQaOC50_hhvk"
   },
   "source": [
    "### As the above code executes, think about the following questions:\n",
    "\n",
    "1. Create objects for the truck and SUV classes for the above code.\n",
    "2. Print the information for each created object.\n",
    "3. What does putting Automobile in parenthesis do? call the constructor in superclass to build the attributes in each subclass"
   ]
  },
  {
   "cell_type": "markdown",
   "id": "ff0066ba",
   "metadata": {
    "id": "ff0066ba"
   },
   "source": [
    "## 4.3 Inheritence (Group):  \n",
    "\n",
    "**Write a program that will do the following:**\n",
    "\n",
    "    1. Create a savings account base class.\n",
    "    2. Create a class CD which inherits class savings.\n",
    "    3. The savings class should contain account number, interest rate, and balance.\n",
    "    4. CD class should contain maturity date along with all inherited attributes.\n",
    "    5. Both classes should have functions to access and change all attributes.\n",
    "    6. Write some code to access and change the attributes."
   ]
  },
  {
   "cell_type": "code",
   "execution_count": 45,
   "id": "ab1742b9",
   "metadata": {
    "executionInfo": {
     "elapsed": 4,
     "status": "ok",
     "timestamp": 1643218896122,
     "user": {
      "displayName": "Travis Martin",
      "photoUrl": "https://lh3.googleusercontent.com/a/default-user=s64",
      "userId": "17005528951968776844"
     },
     "user_tz": 360
    },
    "id": "ab1742b9"
   },
   "outputs": [],
   "source": [
    "\"\"\"\n",
    "class Saving Account\n",
    "\"\"\"\n",
    "class Saving_Account:\n",
    "    def __init__(self, balance):\n",
    "        self.__balance = balance\n",
    "    \n",
    "    \n",
    "    def get_balance(self):\n",
    "        return self.__balance\n",
    "    \n",
    "    \n",
    "    def deposit(self, dep_amount):\n",
    "        __balance += dep_amount\n",
    "        \n",
    "        \n",
    "    def withdraw(self, wit_amount):\n",
    "        if self.__balance >= wit_amount:\n",
    "            self.__balance -= wit_amount\n",
    "        else:\n",
    "            print('Error: Insufficient funds')\n",
    "            \n",
    "\n",
    "\"\"\"\n",
    "class CD extend Saving_Account\n",
    "\"\"\"\n",
    "class CD(Saving_Account):\n",
    "    def __init__(self, balance, account_number, interest_rate):\n",
    "        Saving_Account.__init__(self, balance)\n",
    "        self.__account_number = account_number\n",
    "        self.__interest_rate = interest_rate\n",
    "        \n",
    "    \n",
    "    def get_account_number(self):\n",
    "        return self.__account_number\n",
    "    \n",
    "    \n",
    "    def get_interest_rate(self):\n",
    "        return self.__interest_rate\n",
    "    "
   ]
  },
  {
   "cell_type": "code",
   "execution_count": 50,
   "id": "f307aad3",
   "metadata": {},
   "outputs": [
    {
     "name": "stdout",
     "output_type": "stream",
     "text": [
      "Balance: 10000\n",
      "Balance: 700000, Account Number: 10987654, Annual Interest Rate: 0.4 %\n"
     ]
    }
   ],
   "source": [
    "\"\"\"\n",
    "call in main function to demonstrate the 2 classes\n",
    "\"\"\"\n",
    "if __name__ == '__main__':\n",
    "    account1 = Saving_Account(10000)\n",
    "    print(f\"Balance: {account1.get_balance()}\")\n",
    "    \n",
    "    account2 = CD(700000, '10987654', 0.4)\n",
    "    print(f\"Balance: {account2.get_balance()}, Account Number: {account2.get_account_number()}, Annual Interest Rate: {account2.get_interest_rate()} %\")"
   ]
  },
  {
   "cell_type": "markdown",
   "id": "Lv4WoegwSfcq",
   "metadata": {
    "id": "Lv4WoegwSfcq"
   },
   "source": [
    "## Week 4 Mini Project\n",
    "\n",
    "The project should be created to be useful in your life.  Here are some guidelines for the project.\n",
    "\n",
    "1. Create a class employee.\n",
    "2. Class employee should contain useful attributes.\n",
    "3. Create 2-3 other classes that inherit employee class.\n",
    "4. Each of the child classes should have specific attributes.\n",
    "5. Each class should have 2-3 attributes.\n",
    "6. Make sure to write functions that can both change and print attributes."
   ]
  },
  {
   "cell_type": "code",
   "execution_count": 53,
   "id": "4evC8OBxTUsd",
   "metadata": {
    "executionInfo": {
     "elapsed": 155,
     "status": "ok",
     "timestamp": 1643222178342,
     "user": {
      "displayName": "Travis Martin",
      "photoUrl": "https://lh3.googleusercontent.com/a/default-user=s64",
      "userId": "17005528951968776844"
     },
     "user_tz": 360
    },
    "id": "4evC8OBxTUsd"
   },
   "outputs": [],
   "source": [
    "class Employee:\n",
    "    def __init__(self, name, address, age, phone_number):\n",
    "        self.__name = name\n",
    "        self.__address = address\n",
    "        self.__age = age\n",
    "        self.__phone_number = phone_number\n",
    "    \n",
    "    \n",
    "    def set_name(self, name):\n",
    "        self.__name = name\n",
    "        \n",
    "    \n",
    "    def set_address(self, address):\n",
    "        self.__address = address\n",
    "        \n",
    "    \n",
    "    def set_age(self, age):\n",
    "        self.__age = age\n",
    "        \n",
    "    \n",
    "    def set_phone_number(self, phone_number):\n",
    "        self.__phone_number = phone_number\n",
    "        \n",
    "    \n",
    "    def get_name(self):\n",
    "        return self.__name\n",
    "    \n",
    "    \n",
    "    def get_address(self):\n",
    "        return self.__address\n",
    "    \n",
    "    \n",
    "    def get_age(self):\n",
    "        return self.__age\n",
    "    \n",
    "    \n",
    "    def get_phone_number(self):\n",
    "        return self.__phone_number\n",
    "    \n",
    "      "
   ]
  },
  {
   "cell_type": "code",
   "execution_count": 54,
   "id": "OY70eOxeqjyv",
   "metadata": {
    "executionInfo": {
     "elapsed": 164,
     "status": "ok",
     "timestamp": 1643222303421,
     "user": {
      "displayName": "Travis Martin",
      "photoUrl": "https://lh3.googleusercontent.com/a/default-user=s64",
      "userId": "17005528951968776844"
     },
     "user_tz": 360
    },
    "id": "OY70eOxeqjyv"
   },
   "outputs": [],
   "source": [
    "class Manager(Employee):\n",
    "    def __init__(self, name, address, age, phone_number,managing_level,security_level,supervisor):\n",
    "        Employee.__init__(self, name, age, phone_number)\n",
    "        self.__managing_level = managing_level\n",
    "        self.__security_level = security_level\n",
    "        self.__supervisor = supervisor\n",
    "        \n",
    "    \n",
    "    def set_managing_level(self, managing_level):\n",
    "        self.__managing_level = managing_level\n",
    "        \n",
    "    \n",
    "    def set_security_level(self, security_level):\n",
    "        self.__security_level = security_level\n",
    "        \n",
    "    \n",
    "    def set_supervisor(self, supervisor):\n",
    "        self.__supervisor = supervisor\n",
    "        \n",
    "    \n",
    "    def get_supervisor(self):\n",
    "        return self.__supervisor\n",
    "    \n",
    "    \n",
    "    def get_security_level(self):\n",
    "        return self.__security_level\n",
    "    \n",
    "    \n",
    "    def get_managing_level(self):\n",
    "        return self.__managing_level"
   ]
  },
  {
   "cell_type": "code",
   "execution_count": 55,
   "id": "sMUtesyxqnCX",
   "metadata": {
    "colab": {
     "base_uri": "https://localhost:8080/"
    },
    "executionInfo": {
     "elapsed": 6633,
     "status": "ok",
     "timestamp": 1643222312321,
     "user": {
      "displayName": "Travis Martin",
      "photoUrl": "https://lh3.googleusercontent.com/a/default-user=s64",
      "userId": "17005528951968776844"
     },
     "user_tz": 360
    },
    "id": "sMUtesyxqnCX",
    "outputId": "1d9d149f-fb69-47af-d962-535336147288"
   },
   "outputs": [],
   "source": [
    "class Staff(Employee):\n",
    "    def __init__(self, name, address, age, phone_number,supervisor):\n",
    "        Employee.__init__(self, name, age, phone_number)\n",
    "        self.__supervisor = supervisor\n",
    "        \n",
    "        \n",
    "    def set_supervisor(self, supervisor):\n",
    "        self.__supervisor = supervisor\n",
    "        \n",
    "    \n",
    "    def get_supervisor(self):\n",
    "        return self.__supervisor"
   ]
  }
 ],
 "metadata": {
  "colab": {
   "collapsed_sections": [],
   "name": "WSK Week 4 Solutions.ipynb",
   "provenance": []
  },
  "kernelspec": {
   "display_name": "Python 3",
   "language": "python",
   "name": "python3"
  },
  "language_info": {
   "codemirror_mode": {
    "name": "ipython",
    "version": 3
   },
   "file_extension": ".py",
   "mimetype": "text/x-python",
   "name": "python",
   "nbconvert_exporter": "python",
   "pygments_lexer": "ipython3",
   "version": "3.8.8"
  }
 },
 "nbformat": 4,
 "nbformat_minor": 5
}
